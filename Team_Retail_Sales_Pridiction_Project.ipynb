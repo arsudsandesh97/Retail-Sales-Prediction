{
  "nbformat": 4,
  "nbformat_minor": 0,
  "metadata": {
    "colab": {
      "private_outputs": true,
      "provenance": [],
      "collapsed_sections": [
        "x-EpHcCOp1ci",
        "X_VqEhTip1ck",
        "8zGJKyg5p1ck",
        "PVzmfK_Ep1ck",
        "n3dbpmDWp1ck",
        "ylSl6qgtp1ck",
        "ZWILFDl5p1ck",
        "Ag9LCva-p1cl",
        "E6MkPsBcp1cl",
        "2cELzS2fp1cl",
        "3MPXvC8up1cl",
        "gIfDvo9L0UH2"
      ],
      "include_colab_link": true
    },
    "kernelspec": {
      "name": "python3",
      "display_name": "Python 3"
    },
    "language_info": {
      "name": "python"
    },
    "accelerator": "TPU",
    "gpuClass": "standard"
  },
  "cells": [
    {
      "cell_type": "markdown",
      "metadata": {
        "id": "view-in-github",
        "colab_type": "text"
      },
      "source": [
        "<a href=\"https://colab.research.google.com/github/arsudsandesh97/Retail-Sales-Prediction/blob/main/Team_Retail_Sales_Pridiction_Project.ipynb\" target=\"_parent\"><img src=\"https://colab.research.google.com/assets/colab-badge.svg\" alt=\"Open In Colab\"/></a>"
      ]
    },
    {
      "cell_type": "markdown",
      "source": [
        "# **Project Name**    - Team Retail Sales Pridiction\n",
        "\n"
      ],
      "metadata": {
        "id": "vncDsAP0Gaoa"
      }
    },
    {
      "cell_type": "markdown",
      "source": [
        "##### **Project Type**    - Regression\n",
        "##### **Contribution**    - Team\n",
        "##### **Team Member 1 -** Sandesh Sundarlal Arsud \n",
        "##### **Team Member 2 -** Sachin Shivaji Gavande\n",
        "##### **Team Member 3 -** Vishal Rahul Pagare\n"
      ],
      "metadata": {
        "id": "beRrZCGUAJYm"
      }
    },
    {
      "cell_type": "markdown",
      "source": [
        "# **Project Summary -**"
      ],
      "metadata": {
        "id": "FJNUwmbgGyua"
      }
    },
    {
      "cell_type": "markdown",
      "source": [
        "• In the Rossmann sales prediction project there is a dataset which contains sales information.\n",
        "\n",
        "• The shape of Rossmann dataset = 1017209, 8 and Store dataset = 1115, 10.\n",
        "\n",
        "• In both dataset ‘Store’ column is common. So we do inner join on the basis of column ‘Store’.\n",
        "\n",
        "• This dataset is a live dataset of Rossmann Stores. On analyzing this problem we observe that Rossmann problem is a regression problem and our primarily goal is to predict the sales figures of Rossmann problem.\n",
        "\n",
        "In this Notebook we are going to work on following topics:-\n",
        "\n",
        "Analyzing the dataset by using Exploratory Data Analysis using exponential moving averages analysis trends and seasonality in Rossmann dataset Analyze Regression using following prediction analysis.\n",
        "\n",
        "**A) Linear Regression Analysis.**\n",
        "\n",
        "**B) Elastic Regression (Lasso & Ridge Regression).**\n",
        "\n",
        "**C) Decision tree.**\n",
        "\n",
        "**D) Random Forest Regression.**"
      ],
      "metadata": {
        "id": "F6v_1wHtG2nS"
      }
    },
    {
      "cell_type": "markdown",
      "source": [
        "# **GitHub Link -**"
      ],
      "metadata": {
        "id": "w6K7xa23Elo4"
      }
    },
    {
      "cell_type": "markdown",
      "source": [
        "* **Sandesh Arsud -**\n",
        "\n",
        "* **Sachin Gavande -**\n",
        "\n",
        "* **Vishal Pagare -**\n"
      ],
      "metadata": {
        "id": "h1o69JH3Eqqn"
      }
    },
    {
      "cell_type": "markdown",
      "source": [
        "# **Problem Statement**\n"
      ],
      "metadata": {
        "id": "yQaldy8SH6Dl"
      }
    },
    {
      "cell_type": "markdown",
      "source": [
        "**How can machine learning be used to improve the accuracy of sales predictions for Rossmann's 3,000 drug stores operating in 7 European countries, taking into account various factors that influence store sales such as promotions, competition, school and state holidays, seasonality, and locality?** \n",
        "\n",
        "**The provided historical sales data for 1,115 Rossmann stores will be used to forecast the \"Sales\" column for the test set, considering that some stores in the dataset were temporarily closed for refurbishment.**"
      ],
      "metadata": {
        "id": "DpeJGUA3kjGy"
      }
    },
    {
      "cell_type": "markdown",
      "source": [
        "# **General Guidelines** : -  "
      ],
      "metadata": {
        "id": "mDgbUHAGgjLW"
      }
    },
    {
      "cell_type": "markdown",
      "source": [
        "1.   Well-structured, formatted, and commented code is required. \n",
        "2.   Exception Handling, Production Grade Code & Deployment Ready Code will be a plus. Those students will be awarded some additional credits. \n",
        "     \n",
        "     The additional credits will have advantages over other students during Star Student selection.\n",
        "       \n",
        "             [ Note: - Deployment Ready Code is defined as, the whole .ipynb notebook should be executable in one go\n",
        "                       without a single error logged. ]\n",
        "\n",
        "3.   Each and every logic should have proper comments.\n",
        "4. You may add as many number of charts you want. Make Sure for each and every chart the following format should be answered.\n",
        "        \n",
        "\n",
        "```\n",
        "# Chart visualization code\n",
        "```\n",
        "            \n",
        "\n",
        "*   Why did you pick the specific chart?\n",
        "*   What is/are the insight(s) found from the chart?\n",
        "* Will the gained insights help creating a positive business impact? \n",
        "Are there any insights that lead to negative growth? Justify with specific reason.\n",
        "\n",
        "5. You have to create at least 15 logical & meaningful charts having important insights.\n",
        "\n",
        "\n",
        "[ Hints : - Do the Vizualization in  a structured way while following \"UBM\" Rule. \n",
        "\n",
        "U - Univariate Analysis,\n",
        "\n",
        "B - Bivariate Analysis (Numerical - Categorical, Numerical - Numerical, Categorical - Categorical)\n",
        "\n",
        "M - Multivariate Analysis\n",
        " ]\n",
        "\n",
        "\n",
        "\n",
        "\n",
        "\n",
        "6. You may add more ml algorithms for model creation. Make sure for each and every algorithm, the following format should be answered.\n",
        "\n",
        "\n",
        "*   Explain the ML Model used and it's performance using Evaluation metric Score Chart.\n",
        "\n",
        "\n",
        "*   Cross- Validation & Hyperparameter Tuning\n",
        "\n",
        "*   Have you seen any improvement? Note down the improvement with updates Evaluation metric Score Chart.\n",
        "\n",
        "*   Explain each evaluation metric's indication towards business and the business impact pf the ML model used.\n",
        "\n",
        "\n",
        "\n",
        "\n",
        "\n",
        "\n",
        "\n",
        "\n",
        "\n",
        "\n",
        "\n",
        "\n",
        "\n",
        "\n",
        "\n",
        "\n",
        "\n",
        "\n"
      ],
      "metadata": {
        "id": "ZrxVaUj-hHfC"
      }
    },
    {
      "cell_type": "markdown",
      "source": [
        "# ***Let's Begin !***"
      ],
      "metadata": {
        "id": "O_i_v8NEhb9l"
      }
    },
    {
      "cell_type": "markdown",
      "source": [
        "## ***1. Know Your Data***"
      ],
      "metadata": {
        "id": "HhfV-JJviCcP"
      }
    },
    {
      "cell_type": "markdown",
      "source": [
        "### Import Libraries"
      ],
      "metadata": {
        "id": "Y3lxredqlCYt"
      }
    },
    {
      "cell_type": "code",
      "source": [
        "# Import Libraries"
      ],
      "metadata": {
        "id": "M8Vqi-pPk-HR"
      },
      "execution_count": null,
      "outputs": []
    },
    {
      "cell_type": "code",
      "source": [
        "import numpy as np\n",
        "import pandas as pd\n",
        "import matplotlib.pyplot as plt \n",
        "import seaborn as sns\n",
        "%matplotlib inline\n",
        "import warnings\n",
        "warnings.filterwarnings('ignore')\n",
        "\n",
        "import datetime\n",
        "from sklearn.preprocessing import StandardScaler\n",
        "import plotly.express as px\n",
        "import plotly.graph_objs as go\n",
        "from sklearn import metrics\n",
        "from sklearn.linear_model import LinearRegression\n",
        "from sklearn.linear_model import Lasso\n",
        "from sklearn.model_selection import cross_val_score\n",
        "from sklearn.model_selection import GridSearchCV\n",
        "from sklearn.linear_model import Ridge\n",
        "from sklearn.model_selection import train_test_split"
      ],
      "metadata": {
        "id": "vT83xglZBSG_"
      },
      "execution_count": null,
      "outputs": []
    },
    {
      "cell_type": "markdown",
      "source": [
        "### Dataset Loading"
      ],
      "metadata": {
        "id": "3RnN4peoiCZX"
      }
    },
    {
      "cell_type": "code",
      "source": [
        "# Load Dataset"
      ],
      "metadata": {
        "id": "4CkvbW_SlZ_R"
      },
      "execution_count": null,
      "outputs": []
    },
    {
      "cell_type": "code",
      "source": [
        "from google.colab import drive\n",
        "drive.mount('/content/drive')"
      ],
      "metadata": {
        "id": "KliCKwiRaHqE"
      },
      "execution_count": null,
      "outputs": []
    },
    {
      "cell_type": "code",
      "source": [
        "# Loading Rossmann Dataset"
      ],
      "metadata": {
        "id": "wychKUVs1lNL"
      },
      "execution_count": null,
      "outputs": []
    },
    {
      "cell_type": "code",
      "source": [
        "Data = pd.read_csv(\"/content/drive/MyDrive/project/Retail Sales Prediction/Rossmann Stores Data.csv\")\n",
        "\n",
        "rossmann_df = pd.DataFrame(Data)\n",
        "\n",
        "print(\"Data has been successfully imported\")"
      ],
      "metadata": {
        "id": "-hNtSho-hkUT"
      },
      "execution_count": null,
      "outputs": []
    },
    {
      "cell_type": "code",
      "source": [
        "# Loading Store Dataset."
      ],
      "metadata": {
        "id": "rDRAZDTvYYBG"
      },
      "execution_count": null,
      "outputs": []
    },
    {
      "cell_type": "code",
      "source": [
        "Data = pd.read_csv(\"/content/drive/MyDrive/project/Retail Sales Prediction/store.csv\")\n",
        "\n",
        "store_df = pd.DataFrame(Data)\n",
        "\n",
        "print(\"Data has been successfully imported\")"
      ],
      "metadata": {
        "id": "ElCyw1tqhk1T"
      },
      "execution_count": null,
      "outputs": []
    },
    {
      "cell_type": "markdown",
      "source": [
        "### Dataset First View"
      ],
      "metadata": {
        "id": "x71ZqKXriCWQ"
      }
    },
    {
      "cell_type": "code",
      "source": [
        "# Dataset First Look Rossmann Dataset"
      ],
      "metadata": {
        "id": "LWNFOSvLl09H"
      },
      "execution_count": null,
      "outputs": []
    },
    {
      "cell_type": "code",
      "source": [
        "rossmann_df.head()"
      ],
      "metadata": {
        "id": "Z3m2QpmKDhFF"
      },
      "execution_count": null,
      "outputs": []
    },
    {
      "cell_type": "code",
      "source": [
        "# Dataset First Look Store Dataset"
      ],
      "metadata": {
        "id": "J74m1eA5DwRM"
      },
      "execution_count": null,
      "outputs": []
    },
    {
      "cell_type": "code",
      "source": [
        "store_df.head()"
      ],
      "metadata": {
        "id": "0z_SepJJDyiN"
      },
      "execution_count": null,
      "outputs": []
    },
    {
      "cell_type": "markdown",
      "source": [
        "### Dataset Rows & Columns count"
      ],
      "metadata": {
        "id": "7hBIi_osiCS2"
      }
    },
    {
      "cell_type": "code",
      "source": [
        "# Rossmann Dataset Rows & Columns count"
      ],
      "metadata": {
        "id": "Kllu7SJgmLij"
      },
      "execution_count": null,
      "outputs": []
    },
    {
      "cell_type": "code",
      "source": [
        "rossmann_df.shape"
      ],
      "metadata": {
        "id": "WLXBoHrjD8C5"
      },
      "execution_count": null,
      "outputs": []
    },
    {
      "cell_type": "code",
      "source": [
        "# Store Dataset Rows & Columns count"
      ],
      "metadata": {
        "id": "Gct4VdA5EDfo"
      },
      "execution_count": null,
      "outputs": []
    },
    {
      "cell_type": "code",
      "source": [
        "store_df.shape"
      ],
      "metadata": {
        "id": "xmBou4IMEB8G"
      },
      "execution_count": null,
      "outputs": []
    },
    {
      "cell_type": "markdown",
      "source": [
        "### Dataset Information"
      ],
      "metadata": {
        "id": "JlHwYmJAmNHm"
      }
    },
    {
      "cell_type": "code",
      "source": [
        "# Rossmann Dataset Info"
      ],
      "metadata": {
        "id": "e9hRXRi6meOf"
      },
      "execution_count": null,
      "outputs": []
    },
    {
      "cell_type": "code",
      "source": [
        "rossmann_df.info()"
      ],
      "metadata": {
        "id": "4T4flbNuFlad"
      },
      "execution_count": null,
      "outputs": []
    },
    {
      "cell_type": "code",
      "source": [
        "# Store Dataset Info"
      ],
      "metadata": {
        "id": "06gki2R2F4-n"
      },
      "execution_count": null,
      "outputs": []
    },
    {
      "cell_type": "code",
      "source": [
        "store_df.info()"
      ],
      "metadata": {
        "id": "lw3HJDCUF7jM"
      },
      "execution_count": null,
      "outputs": []
    },
    {
      "cell_type": "markdown",
      "source": [
        "#### Duplicate Values"
      ],
      "metadata": {
        "id": "35m5QtbWiB9F"
      }
    },
    {
      "cell_type": "code",
      "source": [
        "# Rossmann Dataset Duplicate Value Count"
      ],
      "metadata": {
        "id": "mmSO-JkBGGsB"
      },
      "execution_count": null,
      "outputs": []
    },
    {
      "cell_type": "code",
      "source": [
        "rossmann_df.duplicated()"
      ],
      "metadata": {
        "id": "KAhHZt0GGOqf"
      },
      "execution_count": null,
      "outputs": []
    },
    {
      "cell_type": "markdown",
      "source": [
        "**OR**"
      ],
      "metadata": {
        "id": "VoJhioJSP2Ss"
      }
    },
    {
      "cell_type": "code",
      "source": [
        "rossmann_df[rossmann_df.duplicated(keep = False)].count()"
      ],
      "metadata": {
        "id": "Ag0vEbFlGWha"
      },
      "execution_count": null,
      "outputs": []
    },
    {
      "cell_type": "code",
      "source": [
        "# Store Dataset Duplicate Value Count"
      ],
      "metadata": {
        "id": "SwywCW9sM6Ef"
      },
      "execution_count": null,
      "outputs": []
    },
    {
      "cell_type": "code",
      "source": [
        "store_df.duplicated()"
      ],
      "metadata": {
        "id": "wKodHEC4DQAV"
      },
      "execution_count": null,
      "outputs": []
    },
    {
      "cell_type": "markdown",
      "source": [
        "**OR**"
      ],
      "metadata": {
        "id": "YBJdXcX2QAN3"
      }
    },
    {
      "cell_type": "code",
      "source": [
        "store_df[store_df.duplicated(keep = False)].count()"
      ],
      "metadata": {
        "id": "gQ0ujF_CDTlf"
      },
      "execution_count": null,
      "outputs": []
    },
    {
      "cell_type": "markdown",
      "source": [
        "#### Missing Values/Null Values"
      ],
      "metadata": {
        "id": "PoPl-ycgm1ru"
      }
    },
    {
      "cell_type": "code",
      "source": [
        "# Rossmann Dataset Missing Values/Null Values Count"
      ],
      "metadata": {
        "id": "GgHWkxvamxVg"
      },
      "execution_count": null,
      "outputs": []
    },
    {
      "cell_type": "code",
      "source": [
        "rossmann_df.isnull().sum()"
      ],
      "metadata": {
        "id": "AWNEw7HFDsSW"
      },
      "execution_count": null,
      "outputs": []
    },
    {
      "cell_type": "code",
      "source": [
        "# Store Dataset Missing Values/Null Values Count"
      ],
      "metadata": {
        "id": "S_yc6RjNGl0p"
      },
      "execution_count": null,
      "outputs": []
    },
    {
      "cell_type": "code",
      "source": [
        "store_df.isnull().sum()"
      ],
      "metadata": {
        "id": "u8I6GipKDxxK"
      },
      "execution_count": null,
      "outputs": []
    },
    {
      "cell_type": "code",
      "source": [
        "# Visualizing the missing values of Rossmann Dataset"
      ],
      "metadata": {
        "id": "3q5wnI3om9sJ"
      },
      "execution_count": null,
      "outputs": []
    },
    {
      "cell_type": "code",
      "source": [
        "plt.figure(figsize=(8,5))\n",
        "sns.heatmap(rossmann_df.isnull(), cbar=False, cmap='viridis')"
      ],
      "metadata": {
        "id": "4AIvBat5G66H"
      },
      "execution_count": null,
      "outputs": []
    },
    {
      "cell_type": "code",
      "source": [
        "# Visualizing the missing values of Store Dataset"
      ],
      "metadata": {
        "id": "sOo9nKSLHKDx"
      },
      "execution_count": null,
      "outputs": []
    },
    {
      "cell_type": "code",
      "source": [
        "plt.figure(figsize=(8,5))\n",
        "sns.heatmap(store_df.isnull(), cbar=False, annot=True, fmt='d', cmap='GnBu_r')"
      ],
      "metadata": {
        "id": "DOgzXRXVG7jA"
      },
      "execution_count": null,
      "outputs": []
    },
    {
      "cell_type": "markdown",
      "source": [
        "### What did you know about your dataset?"
      ],
      "metadata": {
        "id": "H0kj-8xxnORC"
      }
    },
    {
      "cell_type": "markdown",
      "source": [
        "* **rossmann_df DataSet**\n",
        "\n",
        "* The retail sales prediction dataset contains information about various stores \n",
        "and their sales on a given day.\n",
        "\n",
        "* The dataset has 1017209 rows and 9 columns with no missing or null values and no duplicate values.\n",
        "\n",
        "* The dataset includes various features such as the store type, sales, number of customers, whether the store was open or closed, state holidays, school holidays, the distance to the nearest competitor store, the opening date of the nearest competitor store, information about promotions, and the interval of promotions. \n"
      ],
      "metadata": {
        "id": "0XB8Kl-bHw5x"
      }
    },
    {
      "cell_type": "markdown",
      "source": [
        "* **store_df DataSet**\n",
        "\n",
        "* The dataset has 1115 rows and 10 columns with no duplicate values.\n",
        "\n",
        "* The retail sales prediction dataset has several columns with missing values, including CompetitionDistance with 3 missing values, CompetitionOpenSinceMonth and CompetitionOpenSinceYear both with 354 missing values, Promo2SinceWeek and Promo2SinceYear both with 544 missing values, and PromoInterval with 544 missing values. On the other hand, the column Promo2 does not have any missing values"
      ],
      "metadata": {
        "id": "aGvKdVMCIfsG"
      }
    },
    {
      "cell_type": "markdown",
      "source": [
        "## ***2. Understanding Your Variables***"
      ],
      "metadata": {
        "id": "nA9Y7ga8ng1Z"
      }
    },
    {
      "cell_type": "code",
      "source": [
        "# Rossmann Dataset Columns"
      ],
      "metadata": {
        "id": "j7xfkqrt5Ag5"
      },
      "execution_count": null,
      "outputs": []
    },
    {
      "cell_type": "code",
      "source": [
        "rossmann_df.columns"
      ],
      "metadata": {
        "id": "0wbXFGXPH4QJ"
      },
      "execution_count": null,
      "outputs": []
    },
    {
      "cell_type": "code",
      "source": [
        "# Store Dataset Columns"
      ],
      "metadata": {
        "id": "gNLir-eCIeLV"
      },
      "execution_count": null,
      "outputs": []
    },
    {
      "cell_type": "code",
      "source": [
        "store_df.columns"
      ],
      "metadata": {
        "id": "YGPzE2gkIOJd"
      },
      "execution_count": null,
      "outputs": []
    },
    {
      "cell_type": "code",
      "source": [
        "# Rossmann Dataset Describe"
      ],
      "metadata": {
        "id": "DnOaZdaE5Q5t"
      },
      "execution_count": null,
      "outputs": []
    },
    {
      "cell_type": "code",
      "source": [
        "rossmann_df.describe()"
      ],
      "metadata": {
        "id": "BEyW_kVCH7rX"
      },
      "execution_count": null,
      "outputs": []
    },
    {
      "cell_type": "code",
      "source": [
        "# Store Dataset Describe"
      ],
      "metadata": {
        "id": "38nzHXjFInEb"
      },
      "execution_count": null,
      "outputs": []
    },
    {
      "cell_type": "code",
      "source": [
        "store_df.describe()"
      ],
      "metadata": {
        "id": "31R1Cgb0IptW"
      },
      "execution_count": null,
      "outputs": []
    },
    {
      "cell_type": "markdown",
      "source": [
        "### Variables Description "
      ],
      "metadata": {
        "id": "PBTbrJXOngz2"
      }
    },
    {
      "cell_type": "markdown",
      "source": [
        "* **rossmann_df DataSet**\n",
        "\n",
        "**This data includes information about different stores. The variables in the data are:**\n",
        "\n",
        "* Store : Identifier for each store\n",
        "\n",
        "* DayOfWeek : The day of the week, with Monday being 1 and Sunday being 7\n",
        "\n",
        "* Sales : The amount of sales made at the store on that day\n",
        "\n",
        "* Customers : The number of customers who visited the store on that day\n",
        "\n",
        "* Open : Indicator of whether the store was open on that day (0 or 1)\n",
        "\n",
        "* Promo : Indicator of whether there was a promotion taking place at the store on that day (0 or 1)\n",
        "\n",
        "* SchoolHoliday : Indicator of whether it was a school holiday on that day (0 or 1)\n",
        "\n",
        "**The statistics provided for each variable are:**\n",
        "\n",
        "* Count: Total number of records\n",
        "* Mean: Average value of the variable\n",
        "* Standard Deviation: Measure of the spread of the variable's values\n",
        "* Minimum: Smallest value in the variable\n",
        "* 25th Percentile: Value below which 25% of the variable's values fall\n",
        "* Median (50th Percentile): Middle value of the variable\n",
        "* 75th Percentile: Value below which 75% of the variable's values fall\n",
        "* Maximum: Largest value in the variable"
      ],
      "metadata": {
        "id": "ne78gJ1LNKeK"
      }
    },
    {
      "cell_type": "markdown",
      "source": [
        "* **store_df DataSet**\n",
        "\n",
        "**This data set includes information about different stores, including the following variables:**\n",
        "* Store: Identifier for each store\n",
        "* CompetitionDistance: The distance of the nearest competitor from the store\n",
        "* CompetitionOpenSinceMonth: Month the nearest competitor was opened\n",
        "* CompetitionOpenSinceYear: Year the nearest competitor was opened\n",
        "* Promo2: Indicator of whether the store is running a promotion\n",
        "* Promo2SinceWeek: Week the store started running the promotion\n",
        "* Promo2SinceYear: Year the store started running the promotion\n",
        "\n",
        "**The statistics provided give an overview of the distribution of each variable's values.**\n",
        "\n",
        "* The data for the variables \"CompetitionDistance\" has a mean of 5404.90, std dev of 7663.17, and a range of 20 to 75860 with 3 missing values.\n",
        "\n",
        "* \"CompetitionOpenSinceMonth\" and \"CompetitionOpenSinceYear\" have means of 7.22 and 2008.67, std dev of 3.21 and 6.20, and ranges of 1-12 and 1900-2015 with 354 missing values.\n",
        "\n",
        "* \"Promo2\" has a mean of 0.51 and no missing values, while \"Promo2SinceWeek\" and \"Promo2SinceYear\" have means of 23.60 and 2011.76, std dev of 14.14 and 1.67, and ranges of 1-50 and 2009-2015 with 544 missing values."
      ],
      "metadata": {
        "id": "zeOjoUC_NoHN"
      }
    },
    {
      "cell_type": "markdown",
      "source": [
        "### Check Unique Values for each variable."
      ],
      "metadata": {
        "id": "u3PMJOP6ngxN"
      }
    },
    {
      "cell_type": "code",
      "source": [
        "# Check Unique Values for each variable."
      ],
      "metadata": {
        "id": "zms12Yq5n-jE"
      },
      "execution_count": null,
      "outputs": []
    },
    {
      "cell_type": "code",
      "source": [
        "# For Rossmann Dataset"
      ],
      "metadata": {
        "id": "kT-HpKHpRqA-"
      },
      "execution_count": null,
      "outputs": []
    },
    {
      "cell_type": "code",
      "source": [
        "column_list = rossmann_df.columns.values.tolist()\n",
        "for i in column_list:\n",
        "    print(\"Number of unique values in\", i, \"is\", len(rossmann_df[i].unique()))"
      ],
      "metadata": {
        "id": "eu64ses4Q5t1"
      },
      "execution_count": null,
      "outputs": []
    },
    {
      "cell_type": "code",
      "source": [
        "# For store Dataset"
      ],
      "metadata": {
        "id": "eKb5kbGIRt3C"
      },
      "execution_count": null,
      "outputs": []
    },
    {
      "cell_type": "code",
      "source": [
        "column_list = store_df.columns.values.tolist()\n",
        "for i in column_list:\n",
        "    print(\"Number of unique values in\", i, \"is\", len(store_df[i].unique()))"
      ],
      "metadata": {
        "id": "x1iR6nxTQ7_e"
      },
      "execution_count": null,
      "outputs": []
    },
    {
      "cell_type": "markdown",
      "source": [
        "## 3. ***Data Wrangling***"
      ],
      "metadata": {
        "id": "dauF4eBmngu3"
      }
    },
    {
      "cell_type": "markdown",
      "source": [
        "### Data Wrangling Code"
      ],
      "metadata": {
        "id": "bKJF3rekwFvQ"
      }
    },
    {
      "cell_type": "code",
      "source": [
        "# Write your code to make your dataset analysis ready."
      ],
      "metadata": {
        "id": "wk-9a2fpoLcV"
      },
      "execution_count": null,
      "outputs": []
    },
    {
      "cell_type": "code",
      "source": [
        "# Rossmann Dataset Convert data types for columns as needed\n",
        "\n",
        "rossmann_df['Date'] = pd.to_datetime(rossmann_df['Date'])\n",
        "rossmann_df['StateHoliday'] = rossmann_df['StateHoliday'].astype('category')"
      ],
      "metadata": {
        "id": "hkNsV9XtRMKs"
      },
      "execution_count": null,
      "outputs": []
    },
    {
      "cell_type": "code",
      "source": [
        "# Store Dataset Convert data types for columns as needed\n",
        "\n",
        "store_df['StoreType'] = store_df['StoreType'].astype('category')\n",
        "store_df['Assortment'] = store_df['Assortment'].astype('category')"
      ],
      "metadata": {
        "id": "_OoW6jZ8SAov"
      },
      "execution_count": null,
      "outputs": []
    },
    {
      "cell_type": "code",
      "source": [
        "# extract year, month, and from \"Date\" from Rossmann Dataset\n",
        "\n",
        "rossmann_df['Date']=pd.to_datetime(rossmann_df['Date'])\n",
        "rossmann_df['Year'] = rossmann_df['Date'].apply(lambda x: x.year)\n",
        "rossmann_df['Month'] = rossmann_df['Date'].apply(lambda x: x.month)"
      ],
      "metadata": {
        "id": "Sd4KzGdrSIsm"
      },
      "execution_count": null,
      "outputs": []
    },
    {
      "cell_type": "code",
      "source": [
        "# Rename columns as needed from Rossmann Dataset\n",
        "\n",
        "rossmann_df.rename(columns={'CompetitionDistance': 'DistanceToNearestCompetitor',\n",
        "'CompetitionOpenSinceMonth': 'CompetitorOpenMonth',\n",
        "'CompetitionOpenSinceYear': 'CompetitorOpenYear'}, inplace=True)"
      ],
      "metadata": {
        "id": "7sNKvX1rSaZj"
      },
      "execution_count": null,
      "outputs": []
    },
    {
      "cell_type": "code",
      "source": [
        "# drop 'Date' column from Rossmann Dataset\n",
        "\n",
        "rossmann_df = rossmann_df.drop(['Date'],axis=1)"
      ],
      "metadata": {
        "id": "lgCgQgGTAdwJ"
      },
      "execution_count": null,
      "outputs": []
    },
    {
      "cell_type": "markdown",
      "source": [
        "**We will eliminate columns where more than 30% of values are absent, as these features are unlikely to provide reliable information.**"
      ],
      "metadata": {
        "id": "aYfoCO0YvJmY"
      }
    },
    {
      "cell_type": "code",
      "source": [
        "# Store Dataset remove features\n",
        "\n",
        "store_df = store_df.drop(['CompetitionOpenSinceMonth', 'CompetitionOpenSinceYear','Promo2SinceWeek',\n",
        "                     'Promo2SinceYear', 'PromoInterval'], axis=1)"
      ],
      "metadata": {
        "id": "Jv_NaHFuT4jm"
      },
      "execution_count": null,
      "outputs": []
    },
    {
      "cell_type": "markdown",
      "source": [
        "**Replace missing values in features with low percentages of missing values**"
      ],
      "metadata": {
        "id": "P-d9UTZ3wC7c"
      }
    },
    {
      "cell_type": "code",
      "source": [
        "# CompetitionDistance is distance in meters to the nearest competitor store\n",
        "# let's first have a look at its distribution\n",
        "\n",
        "sns.distplot(store_df.CompetitionDistance.dropna(), color='purple', hist_kws=dict(edgecolor=\"black\", linewidth=2))\n",
        "plt.title(\"Distribution of Store Competition Distance\")"
      ],
      "metadata": {
        "id": "mFUI4oGkULLa"
      },
      "execution_count": null,
      "outputs": []
    },
    {
      "cell_type": "code",
      "source": [
        "# replace missing values in CompetitionDistance with median for the store dataset\n",
        "\n",
        "store_df.CompetitionDistance.fillna(store_df.CompetitionDistance.median(), inplace=True)"
      ],
      "metadata": {
        "id": "Bgk7qPvwUfWJ"
      },
      "execution_count": null,
      "outputs": []
    },
    {
      "cell_type": "markdown",
      "source": [
        "### What all manipulations have you done and insights you found?"
      ],
      "metadata": {
        "id": "MSa1f5Uengrz"
      }
    },
    {
      "cell_type": "markdown",
      "source": [
        "* In this dataset we have found sales data from 2013 to 2015 \n",
        "\n",
        "* In this dataset we extracted the 'Year', 'Month', 'Day', and 'WeekOfYear' and created new columns from date column.  \n",
        "\n",
        "* In this dataset we sorted the values by date and store columns in descending ascending order\n",
        "\n",
        "* The sales data is for 5 stores and covers the date range from 2015-07-31 to 2015-07-31.\n",
        "\n",
        "* The stores were open on the day of the sales, and some stores were running promotions.\n",
        "\n",
        "* It was not a state holiday or a school holiday on the day of the sales.\n",
        "The data includes sales data for the month of July in the year 2015."
      ],
      "metadata": {
        "id": "LbyXE7I1olp8"
      }
    },
    {
      "cell_type": "markdown",
      "source": [
        "## ***4. Data Vizualization, Storytelling & Experimenting with charts : Understand the relationships between variables***"
      ],
      "metadata": {
        "id": "GF8Ens_Soomf"
      }
    },
    {
      "cell_type": "markdown",
      "source": [
        "* ***Rossmann Dataset Visualization***"
      ],
      "metadata": {
        "id": "VQzugVt8SuWg"
      }
    },
    {
      "cell_type": "markdown",
      "source": [
        "#### Chart - 1 - Histogram \n",
        "\n"
      ],
      "metadata": {
        "id": "0wOQAZs5pc--"
      }
    },
    {
      "cell_type": "code",
      "source": [
        "# Chart - 1 visualization code"
      ],
      "metadata": {
        "id": "7v_ESjsspbW7"
      },
      "execution_count": null,
      "outputs": []
    },
    {
      "cell_type": "code",
      "source": [
        "#grouping the data by store\n",
        "df_grouped_by_store = rossmann_df.groupby(['Store']).agg({'Sales':'sum'})\n",
        "\n",
        "#plotting the distribution of sales across different stores\n",
        "df_grouped_by_store.plot(kind='hist', bins=30)\n",
        "plt.xlabel(\"Sales\")\n",
        "plt.ylabel(\"Number of Stores\")\n",
        "plt.title(\"Distribution of Sales across Different Stores\")\n",
        "plt.show()"
      ],
      "metadata": {
        "id": "lrWZqMIUQFqP"
      },
      "execution_count": null,
      "outputs": []
    },
    {
      "cell_type": "markdown",
      "source": [
        "##### 1. Why did you pick the specific chart?"
      ],
      "metadata": {
        "id": "K5QZ13OEpz2H"
      }
    },
    {
      "cell_type": "markdown",
      "source": [
        "I picked a histogram to visualize the distribution of sales across different stores because histograms are used to represent the distribution of continuous data, which is what the sales data is in this case. A histogram breaks down the data into intervals or bins and shows the frequency of data points in each bin. This helps to identify the range of values that the sales data covers and how the data is spread out across that range. The shape of the histogram can provide insight into the underlying distribution of the data, such as whether it is symmetrical, skewed, or multimodal. Overall, a histogram is an effective way to represent the distribution of sales across different stores."
      ],
      "metadata": {
        "id": "XESiWehPqBRc"
      }
    },
    {
      "cell_type": "markdown",
      "source": [
        "##### 2. What is/are the insight(s) found from the chart?"
      ],
      "metadata": {
        "id": "lQ7QKXXCp7Bj"
      }
    },
    {
      "cell_type": "markdown",
      "source": [
        "1_The range of sales for different stores can be seen from the x-axis\n",
        "\n",
        "The frequency or number of stores can be seen from the y-axis, which shows how many stores have sales within a certain range.\n",
        "The shape of the histogram can provide information about the distribution of sales across different stores, such as whether it is symmetrical or skewed. For example, if the histogram is symmetrical, it means that the sales data is evenly spread out across the range, while if it is skewed, it means that the sales data is not evenly spread out.\n",
        "The number of stores with high sales can be seen from the frequency or height of the histogram in certain ranges on the x-axis. This can give information about the performance of different stor\n",
        "\n",
        "\n"
      ],
      "metadata": {
        "id": "C_j1G7yiqdRP"
      }
    },
    {
      "cell_type": "markdown",
      "source": [
        "##### 3. Will the gained insights help creating a positive business impact? \n",
        "Are there any insights that lead to negative growth? Justify with specific reason."
      ],
      "metadata": {
        "id": "448CDAPjqfQr"
      }
    },
    {
      "cell_type": "markdown",
      "source": [
        "The gained insights from the histogram of the distribution of sales across different stores can help create a positive business impact in the following ways:\n",
        "1)Identifying top-performing stores: The histogram can show the frequency of stores with high sales, which can help identify the top-performing stores\n",
        "2)Identifying under-performing stores: The histogram can also show the frequency of stores with low sales, which can help identify the under-performing stores. These stores can be studied further to understand what is not working well and what changes can be made to improve their performance. \n",
        "There are no specific insights that lead to negative growth based on the histogram of the distribution of sales across different stores. However, it is important to note that the insights gained from this histogram are just one aspect of the data and should be combined with other data and analysis to make informed business decisions.\n",
        "\n",
        "\n",
        "\n"
      ],
      "metadata": {
        "id": "3cspy4FjqxJW"
      }
    },
    {
      "cell_type": "markdown",
      "source": [
        "2)Identifying under-performing stores: The histogram can also show the frequency of stores with low sales, which can help identify the under-performing stores. These stores can be studied further to understand what is not working well and what changes can be made to improve their performance. "
      ],
      "metadata": {
        "id": "x1rUhzfWsccg"
      }
    },
    {
      "cell_type": "markdown",
      "source": [
        "There are no specific insights that lead to negative growth based on the histogram of the distribution of sales across different stores. However, it is important to note that the insights gained from this histogram are just one aspect of the data and should be combined with other data and analysis to make informed business decisions.\n",
        "\n",
        "\n"
      ],
      "metadata": {
        "id": "Msvbb9IJsbt4"
      }
    },
    {
      "cell_type": "markdown",
      "source": [
        "#### Chart - 2 - Pie chart"
      ],
      "metadata": {
        "id": "KSlN3yHqYklG"
      }
    },
    {
      "cell_type": "code",
      "source": [
        "# Chart - 2 visualization code"
      ],
      "metadata": {
        "id": "R4YgtaqtYklH"
      },
      "execution_count": null,
      "outputs": []
    },
    {
      "cell_type": "code",
      "source": [
        "# Define the data and labels\n",
        "labels = ['Not-Affected', 'Affected']\n",
        "sizes = rossmann_df.SchoolHoliday.value_counts()\n",
        "explode = (0.1, 0.0)\n",
        "\n",
        "# Define the colors\n",
        "colors = ['#4CAF50', '#FF5722']  # Green and Orange\n",
        "\n",
        "# Create the pie chart\n",
        "plt.pie(sizes, explode=explode, labels=labels, colors=colors,\n",
        "        autopct='%1.1f%%', shadow=True, startangle=180)\n",
        "\n",
        "# Set the title and other properties\n",
        "plt.axis('equal')\n",
        "plt.title(\"Sales Affected by School Holiday or Not?\", fontsize=20)\n",
        "plt.plot()\n",
        "fig = plt.gcf()\n",
        "fig.set_size_inches(6, 6)\n",
        "\n",
        "# Show the chart\n",
        "plt.show()\n"
      ],
      "metadata": {
        "id": "bw4FBH7AQ4ZR"
      },
      "execution_count": null,
      "outputs": []
    },
    {
      "cell_type": "markdown",
      "source": [
        "##### 1. Why did you pick the specific chart?"
      ],
      "metadata": {
        "id": "t6dVpIINYklI"
      }
    },
    {
      "cell_type": "markdown",
      "source": [
        "Choosed this chart beacuse the pie chart shows the proportion of sales affected or not affected by school holidays, making it a useful way to compare the relative sizes of different categories."
      ],
      "metadata": {
        "id": "dcxuIMRPYuh3"
      }
    },
    {
      "cell_type": "markdown",
      "source": [
        "##### 2. What is/are the insight(s) found from the chart?"
      ],
      "metadata": {
        "id": "ijmpgYnKYklI"
      }
    },
    {
      "cell_type": "markdown",
      "source": [
        "According to the above chart, 17.9% of sales are affected by the school holiday, while 82.1% are not affected. "
      ],
      "metadata": {
        "id": "uyqkiB8YYuh3"
      }
    },
    {
      "cell_type": "markdown",
      "source": [
        "#### Chart - 3 - Barplot"
      ],
      "metadata": {
        "id": "EM7whBJCYoAo"
      }
    },
    {
      "cell_type": "code",
      "source": [
        "# Chart - 3 visualization code"
      ],
      "metadata": {
        "id": "t6GMdE67YoAp"
      },
      "execution_count": null,
      "outputs": []
    },
    {
      "cell_type": "code",
      "source": [
        "fig,ax=plt.subplots(figsize=(14,8))\n",
        "sns.barplot(data = rossmann_df,x='DayOfWeek',y='Sales',ax=ax,capsize=.2)\n",
        "ax.set(title='Sales according to Day of week ')\n",
        "plt.show()"
      ],
      "metadata": {
        "id": "DO0wy7BwRcYX"
      },
      "execution_count": null,
      "outputs": []
    },
    {
      "cell_type": "markdown",
      "source": [
        "##### 1. Why did you pick the specific chart?"
      ],
      "metadata": {
        "id": "fge-S5ZAYoAp"
      }
    },
    {
      "cell_type": "markdown",
      "source": [
        "* We are plotting Bar graph to see the Sales according to Days in week."
      ],
      "metadata": {
        "id": "odSbf00HU0Uu"
      }
    },
    {
      "cell_type": "markdown",
      "source": [
        "##### 2. What is/are the insight(s) found from the chart?"
      ],
      "metadata": {
        "id": "85gYPyotYoAp"
      }
    },
    {
      "cell_type": "markdown",
      "source": [
        "* We can conclude that sells are high on Monday and low on Sunday.\n",
        "\n",
        "* It may be because of holiday and on holiday people prefer to do other things than shopping."
      ],
      "metadata": {
        "id": "no-xU0i1U3fa"
      }
    },
    {
      "cell_type": "markdown",
      "source": [
        "##### 3. Will the gained insights help creating a positive business impact? \n",
        "Are there any insights that lead to negative growth? Justify with specific reason."
      ],
      "metadata": {
        "id": "RoGjAbkUYoAp"
      }
    },
    {
      "cell_type": "markdown",
      "source": [
        "* Stores have to try increasing sell on sunday or they can close the store for half day on sunday to minimize expenditure."
      ],
      "metadata": {
        "id": "3OZQJrvsU67_"
      }
    },
    {
      "cell_type": "markdown",
      "source": [
        "#### Chart - 4 - Bar Plot"
      ],
      "metadata": {
        "id": "4Of9eVA-YrdM"
      }
    },
    {
      "cell_type": "code",
      "source": [
        "# Chart - 4 visualization code"
      ],
      "metadata": {
        "id": "irlUoxc8YrdO"
      },
      "execution_count": null,
      "outputs": []
    },
    {
      "cell_type": "code",
      "source": [
        "#grouping the data by day of the week\n",
        "df_grouped_by_day_of_week = rossmann_df.groupby(['DayOfWeek']).agg({'Sales':'mean'})\n",
        "\n",
        "#plotting the average sales by day of the week\n",
        "df_grouped_by_day_of_week.plot(kind='bar')\n",
        "plt.xlabel(\"Day of Week\")\n",
        "plt.ylabel(\"Average Sales\")\n",
        "plt.title(\"Average Sales by Day of Week\")\n",
        "plt.show()"
      ],
      "metadata": {
        "id": "NFpdKETVagQb"
      },
      "execution_count": null,
      "outputs": []
    },
    {
      "cell_type": "markdown",
      "source": [
        "##### 1. Why did you pick the specific chart?"
      ],
      "metadata": {
        "id": "iky9q4vBYrdO"
      }
    },
    {
      "cell_type": "markdown",
      "source": [
        "The bar plot represents the average sales of a retail store grouped by whether or not a promotional offer was running during that period\n"
      ],
      "metadata": {
        "id": "5aaW0BYyYklI"
      }
    },
    {
      "cell_type": "markdown",
      "source": [
        "##### 2. What is/are the insight(s) found from the chart?"
      ],
      "metadata": {
        "id": "F6T5p64dYrdO"
      }
    },
    {
      "cell_type": "markdown",
      "source": [
        "* The average sales for each day of the week can be seen from the height of the bars.\n",
        "   \n",
        "\n",
        "\n",
        "\n",
        "\n",
        "\n",
        "\n",
        "\n"
      ],
      "metadata": {
        "id": "PSx9atu2YklI"
      }
    },
    {
      "cell_type": "markdown",
      "source": [
        "*  The pattern of sales across different days of the week can be seen from the bar plot, which can give information about the sales trends for each day of the week"
      ],
      "metadata": {
        "id": "xcxwwY4hu4eb"
      }
    },
    {
      "cell_type": "markdown",
      "source": [
        "\n",
        "\n",
        "*   the plot may show that sales are higher on weekends and lower on weekdays.\n",
        "\n"
      ],
      "metadata": {
        "id": "7gp8SEFav8po"
      }
    },
    {
      "cell_type": "markdown",
      "source": [
        "##### 3. Will the gained insights help creating a positive business impact? \n",
        "Are there any insights that lead to negative growth? Justify with specific reason."
      ],
      "metadata": {
        "id": "y-Ehk30pYrdP"
      }
    },
    {
      "cell_type": "markdown",
      "source": [
        " *Optimizing store hours: The plot can show which days of the week have higher orlower sales, which can inform the business about when they should open and close their stores. For example, if the plot shows that sales are lower on weekdays, the business may decide to close the store earlier on weekdays and open later on weekends."
      ],
      "metadata": {
        "id": "BcBbebzrYklV"
      }
    },
    {
      "cell_type": "markdown",
      "source": [
        "*Improving customer engagement: The plot can provide information about when customers are most likely to visit the store, which can help the business improve customer engagement. For example, if the plot shows that sales are higher on weekends, the business may decide to offer more promotions and discounts on weekends to attract more customers."
      ],
      "metadata": {
        "id": "u96L1DzQxAh1"
      }
    },
    {
      "cell_type": "markdown",
      "source": [
        "There are no specific insights that lead to negative growth based on the bar plot of average sales by day of the week. However, it is important to note that the insights gained from this plot are just one aspect of the data and should be combined with other data and analysis to make informed business decisions."
      ],
      "metadata": {
        "id": "OGGuqf93xAQ1"
      }
    },
    {
      "cell_type": "markdown",
      "source": [
        "#### Chart - 5 - Correlation Heatmap"
      ],
      "metadata": {
        "id": "bamQiAODYuh1"
      }
    },
    {
      "cell_type": "code",
      "source": [
        "# Chart - 5 Correlation Heatmap visualization code"
      ],
      "metadata": {
        "id": "TIJwrbroYuh3"
      },
      "execution_count": null,
      "outputs": []
    },
    {
      "cell_type": "code",
      "source": [
        "correlation_map = rossmann_df[rossmann_df.columns].corr()\n",
        "obj = np.array(correlation_map)\n",
        "obj[np.tril_indices_from(obj)] = False\n",
        "fig, ax = plt.subplots()\n",
        "fig.set_size_inches(9, 9)\n",
        "cmap = sns.diverging_palette(220, 10, as_cmap=True)\n",
        "sns.heatmap(correlation_map, mask=obj, vmax=.7, square=True, annot=True, cmap=cmap)"
      ],
      "metadata": {
        "id": "abmGOjEcSwtI"
      },
      "execution_count": null,
      "outputs": []
    },
    {
      "cell_type": "markdown",
      "source": [
        "##### 1. Why did you pick the specific chart?"
      ],
      "metadata": {
        "id": "QHF8YVU7Yuh3"
      }
    },
    {
      "cell_type": "markdown",
      "source": [
        "I choosed this chart because The heatmap is a suitable choice for this task because it allows for a quick and intuitive understanding of the strength and direction of the correlation between pairs of variables. The use of colors and annotations in the heatmap further enhances the interpretation of the correlation matrix."
      ],
      "metadata": {
        "id": "L6CZep4WS-Vp"
      }
    },
    {
      "cell_type": "markdown",
      "source": [
        "##### 2. What is/are the insight(s) found from the chart?"
      ],
      "metadata": {
        "id": "GwzvFGzlYuh3"
      }
    },
    {
      "cell_type": "markdown",
      "source": [
        "The insights from a heatmap chart of a correlation matrix can provide valuable information about the relationships between variables in a dataset. By examining the color intensity and values displayed in the grid, one can identify the strengths of the correlations between the variables, with stronger correlations being represented by brighter colors and larger values. However, it is important to keep in mind that correlation does not necessarily imply causation, and that other factors may be at play in determining the relationships between the variables. Nevertheless, analyzing the correlations between variables can be a useful starting point for identifying interesting patterns and relationships in a dataset."
      ],
      "metadata": {
        "id": "3TFMj8B3TFgJ"
      }
    },
    {
      "cell_type": "markdown",
      "source": [
        "#### Chart - 6 - Pair Plot"
      ],
      "metadata": {
        "id": "OH-pJp9IphqM"
      }
    },
    {
      "cell_type": "code",
      "source": [
        "# Chart - 6 Pair Plot visualization code"
      ],
      "metadata": {
        "id": "kuRf4wtuphqN"
      },
      "execution_count": null,
      "outputs": []
    },
    {
      "cell_type": "code",
      "source": [
        "sns.pairplot(rossmann_df[[\"Store\", \"DayOfWeek\", \"Sales\", \"Customers\", \"Open\", \"Promo\", \"SchoolHoliday\"]])\n",
        "plt.show()"
      ],
      "metadata": {
        "id": "di_g-bNRSO-u"
      },
      "execution_count": null,
      "outputs": []
    },
    {
      "cell_type": "markdown",
      "source": [
        "##### 1. Why did you pick the specific chart?"
      ],
      "metadata": {
        "id": "bbFf2-_FphqN"
      }
    },
    {
      "cell_type": "markdown",
      "source": [
        "* The specific chart was picked as a pairplot because it is a convenient way to visualize the relationships between multiple variables in a dataset, making it useful for exploring and discovering patterns in the data."
      ],
      "metadata": {
        "id": "2ibqdfh6ZNK_"
      }
    },
    {
      "cell_type": "markdown",
      "source": [
        "##### 2. What is/are the insight(s) found from the chart?"
      ],
      "metadata": {
        "id": "_ouA3fa0phqN"
      }
    },
    {
      "cell_type": "markdown",
      "source": [
        "* The scatter plots can reveal relationships and outliers between variables.\n",
        "\n",
        "* The histograms along the diagonal show the distributions of each variable and their shape and spread.\n",
        "\n",
        "* The scatter plots can reveal correlations between variables, which can indicate relationships between them\n",
        "\n",
        "* Comparing multiple variables in one plot helps identify the relationships and importance of each variable for analysis."
      ],
      "metadata": {
        "id": "LHbKIZh2ZPi9"
      }
    },
    {
      "cell_type": "markdown",
      "source": [
        "##### 3. Will the gained insights help creating a positive business impact? \n",
        "Are there any insights that lead to negative growth? Justify with specific reason."
      ],
      "metadata": {
        "id": "Seke61FWphqN"
      }
    },
    {
      "cell_type": "markdown",
      "source": [
        "* The impact of the insights from the pairplot on the business is dependent on context and further analysis is needed to determine relationships between variables and their impact on the business outcomes."
      ],
      "metadata": {
        "id": "h8QkivS_ZSDt"
      }
    },
    {
      "cell_type": "markdown",
      "source": [
        "* ***Store Dataset Visualization***"
      ],
      "metadata": {
        "id": "eYiV38iqZlWR"
      }
    },
    {
      "cell_type": "markdown",
      "source": [
        "#### Chart - 7 - Line Chart"
      ],
      "metadata": {
        "id": "LS3NcUX3bap1"
      }
    },
    {
      "cell_type": "code",
      "source": [
        "# Calculate the frequency of each store type in the dataset\n",
        "store_types =store_df['StoreType'].value_counts()\n",
        "\n",
        "# Plot the store type frequency using a line plot\n",
        "store_types .plot(kind='line')\n",
        "\n",
        "# Add title and labels to the plot\n",
        "plt.title('Distribution of Store Types')\n",
        "plt.xlabel('Store Type')\n",
        "plt.ylabel('Frequency')\n",
        "\n",
        "# Show the plot\n",
        "plt.show()\n"
      ],
      "metadata": {
        "id": "aq2fLqDaS8gT"
      },
      "execution_count": null,
      "outputs": []
    },
    {
      "cell_type": "markdown",
      "source": [
        "##### 1. Why did you pick the specific chart?"
      ],
      "metadata": {
        "id": "hEnQ-3Qgbap2"
      }
    },
    {
      "cell_type": "markdown",
      "source": [
        "I chose a line plot because it is a simple and effective way to display the distribution of a categorical variable, such as the store types in the dataset. The line plot allows for easy comparison of the frequency of each store type and provides a clear visualization of the distribution of the data.Answer Here."
      ],
      "metadata": {
        "id": "Fk8i9Y3Pbap2"
      }
    },
    {
      "cell_type": "markdown",
      "source": [
        "##### 2. What is/are the insight(s) found from the chart?"
      ],
      "metadata": {
        "id": "XOaPUFyBbap2"
      }
    },
    {
      "cell_type": "markdown",
      "source": [
        "Answer Here\n",
        "\n",
        "\n",
        "\n",
        "*   The relative proportions of each store type in the dataset: The height of each line segment on the plot represents the frequency of each store type, so we can easily see the relative proportions of each store type in the dataset.\n",
        "*The dominance of a particular store type: If one store type has a much higher frequency than the others, it will be clear from the plot and we can conclude that this store type is the dominant type in the dataset.\n",
        "* Trends in the store type distribution: If there is a trend in the distribution of store types, such as an increase or decrease in the frequency of a particular store type, this can be observed from the plot over time.\n",
        "\n"
      ],
      "metadata": {
        "id": "Ga1g38qQbap2"
      }
    },
    {
      "cell_type": "markdown",
      "source": [
        "#### Chart - 8 - Bar Plot"
      ],
      "metadata": {
        "id": "BZR9WyysphqO"
      }
    },
    {
      "cell_type": "code",
      "source": [
        "# Chart - 8 visualization code"
      ],
      "metadata": {
        "id": "TdPTWpAVphqO"
      },
      "execution_count": null,
      "outputs": []
    },
    {
      "cell_type": "code",
      "source": [
        "fig,ax=plt.subplots(figsize=(15,8))\n",
        "sns.barplot(data=store_df,x='StoreType',y='Promo2',ax=ax,capsize=.2)\n",
        "ax.set(title='Promo2 according to Store Type ')\n",
        "plt.show()"
      ],
      "metadata": {
        "id": "p7BxlgNkQ1Lr"
      },
      "execution_count": null,
      "outputs": []
    },
    {
      "cell_type": "markdown",
      "source": [
        "##### 1. Why did you pick the specific chart?"
      ],
      "metadata": {
        "id": "jj7wYXLtphqO"
      }
    },
    {
      "cell_type": "markdown",
      "source": [
        "* A bar plot, is often used to display the relationship between categorical variables, making it a suitable choice for visualizing the relationship between store type and Promo2.\n",
        "\n"
      ],
      "metadata": {
        "id": "Ob8u6rCTphqO"
      }
    },
    {
      "cell_type": "markdown",
      "source": [
        "##### 2. What is/are the insight(s) found from the chart?"
      ],
      "metadata": {
        "id": "eZrbJ2SmphqO"
      }
    },
    {
      "cell_type": "markdown",
      "source": [
        "1. StoreType b has the highest average value of Promo2, indicating that this store type is more likely to participate in promotional activities compared to other store types.\n",
        "\n",
        "2. StoreType d has the lowest average value of Promo2, which suggests that this store type is less likely to participate in promotional activities.\n",
        "\n",
        "3. The error bars on the plot suggest that there is some variability in the data. The size of the error bars indicates the level of uncertainty in the mean value of Promo2 for each store type.\n",
        "\n",
        "4. The plot allows us to quickly compare the levels of Promo2 across different store types and identify any patterns or trends in the data.\n",
        "\n",
        "* Overall, this chart provides a useful summary of the relationship between store type and Promo2 and can be used to inform marketing and promotional strategies for different store types."
      ],
      "metadata": {
        "id": "mZtgC_hjphqO"
      }
    },
    {
      "cell_type": "markdown",
      "source": [
        "##### 3. Will the gained insights help creating a positive business impact? \n",
        "Are there any insights that lead to negative growth? Justify with specific reason."
      ],
      "metadata": {
        "id": "rFu4xreNphqO"
      }
    },
    {
      "cell_type": "markdown",
      "source": [
        "* The chart can positively impact business by guiding resource allocation towards stores with high participation potential (StoreType b) but poor allocation towards low participation potential stores (StoreType d) can lead to resource wastage, as data may not represent future trends or complexities in relationships."
      ],
      "metadata": {
        "id": "ey_0qi68phqO"
      }
    },
    {
      "cell_type": "markdown",
      "source": [
        "#### Chart - 9 -  Countplot"
      ],
      "metadata": {
        "id": "YJ55k-q6phqO"
      }
    },
    {
      "cell_type": "code",
      "source": [
        "# Chart - 9 visualization code"
      ],
      "metadata": {
        "id": "B2aS4O1ophqO"
      },
      "execution_count": null,
      "outputs": []
    },
    {
      "cell_type": "code",
      "source": [
        "#checking stores with their assortment type \n",
        "sns.set_style(\"whitegrid\")\n",
        "fig, ax = plt.subplots()\n",
        "fig.set_size_inches(11, 7)\n",
        "store_type=sns.countplot(x='StoreType',hue='Assortment', data=store_df,palette=\"inferno\")\n",
        "\n",
        "for p in store_type.patches:\n",
        "    store_type.annotate(f'\\n{p.get_height()}', (p.get_x()+0.15, p.get_height()),ha='center', va='top', color='white', size=10)"
      ],
      "metadata": {
        "id": "pOiVQdUXYzIL"
      },
      "execution_count": null,
      "outputs": []
    },
    {
      "cell_type": "markdown",
      "source": [
        "##### 1. Why did you pick the specific chart?"
      ],
      "metadata": {
        "id": "gCFgpxoyphqP"
      }
    },
    {
      "cell_type": "markdown",
      "source": [
        "We choose countplot because it is a useful tool to visualise the frequency distribution of the categorical variables StoreType and Assortment, segmented by Assortment, and with annotations added to provide more detailed information."
      ],
      "metadata": {
        "id": "ETV7afcOY8Ml"
      }
    },
    {
      "cell_type": "markdown",
      "source": [
        "##### 2. What is/are the insight(s) found from the chart?"
      ],
      "metadata": {
        "id": "OVtJsKN_phqQ"
      }
    },
    {
      "cell_type": "markdown",
      "source": [
        "The above chart reveals an insight: on the countplot, StoreType 'a' has the most stores, and the majority of these stores have Assortment Type 'a'. StoreType 'd' has the fewest stores, and the stores are distributed evenly among Assortment Types 'a', 'b', and 'c'. This information can be useful in making decisions about product assortment and marketing strategies for different store types."
      ],
      "metadata": {
        "id": "rrvRF8XoZBlz"
      }
    },
    {
      "cell_type": "markdown",
      "source": [
        "#### Chart - 10 - Pie Chart"
      ],
      "metadata": {
        "id": "ooSYwYD8b04P"
      }
    },
    {
      "cell_type": "code",
      "source": [
        "# Chart - 11 visualization code"
      ],
      "metadata": {
        "id": "prI0LSvYb04Q"
      },
      "execution_count": null,
      "outputs": []
    },
    {
      "cell_type": "code",
      "source": [
        "# Group the data by store type and calculate the mean competition distance for each group\n",
        "grouped = store_df.groupby('StoreType')['CompetitionDistance'].mean()\n",
        "\n",
        "# Plot the data as a pie chart\n",
        "grouped.plot.pie(autopct='%1.1f%%')\n",
        "\n",
        "# Add a title and axis labels\n",
        "plt.title(\"Average Competition Distance by Store Type\")\n",
        "plt.xlabel(\"Store Type\")\n",
        "plt.ylabel(\"Average Competition Distance\")\n",
        "\n",
        "# Show the plot\n",
        "plt.show()\n"
      ],
      "metadata": {
        "id": "2wkoDlzL5oOZ"
      },
      "execution_count": null,
      "outputs": []
    },
    {
      "cell_type": "markdown",
      "source": [
        "##### 1. Why did you pick the specific chart?"
      ],
      "metadata": {
        "id": "icrVHlCKb04Q"
      }
    },
    {
      "cell_type": "markdown",
      "source": [
        "\n",
        "\n",
        "*  I chose a pie chart to visualize the average competition distance by store type because it is a simple and effective way to show the proportion of each store type in the data. A pie chart is particularly useful when you want to show the distribution of data among categories and the relative size of each category. In this case, each store type represents a category and the size of each wedge in the chart represents the average competition distance for that store type. The pie chart makes it easy to compare the average competition distance between store types at a glance and to see which store type has the largest or smallest average competition distance.\n",
        "\n",
        "\n",
        "\n",
        "\n",
        "\n",
        "\n",
        "\n",
        "\n"
      ],
      "metadata": {
        "id": "KP2M0Pvwb04Q"
      }
    },
    {
      "cell_type": "markdown",
      "source": [
        "##### 2. What is/are the insight(s) found from the chart?"
      ],
      "metadata": {
        "id": "HVtVnHvxb04Q"
      }
    },
    {
      "cell_type": "markdown",
      "source": [
        "\n",
        "\n",
        "* Proportion of store types: The chart provides a visual representation of the proportion of each store type in the data set. \n",
        "*Comparison of average competition distance: The chart makes it easy to   \n",
        "\n",
        "* compare the average competition distance between different store types and see which store type has the largest or smallest average competition distance \n",
        "\n",
        "*  Trends and patterns: The chart may reveal any trends or patterns in the distribution of average competition distance by store type. For example, if one store type has a significantly larger average competition distance compared to the others, it could indicate a trend or pattern in the data.\n",
        "\n",
        "Overall, the chart provides a simple and effective way to gain insights into the distribution of average competition distance by store type and to compare the average competition distance between different store types.\n",
        "\n",
        "\n"
      ],
      "metadata": {
        "id": "bqV8BnG0b04Q"
      }
    },
    {
      "cell_type": "markdown",
      "source": [
        "##### 3. Will the gained insights help creating a positive business impact? \n",
        "Are there any insights that lead to negative growth? Justify with specific reason."
      ],
      "metadata": {
        "id": "n2Tqkytmb04Q"
      }
    },
    {
      "cell_type": "markdown",
      "source": [
        "The insights gained from the chart may or may not have a positive business impact, as it depends on the context and the specific business situation. However, the chart can provide valuable information that can help inform business decisions.\n",
        "\n",
        "For example, if the chart reveals that one store type has a significantly larger average competition distance compared to the others, it could indicate a business opportunity to either target that store type with promotional efforts or to consider opening new stores of that type in areas with lower competition.\n",
        "\n",
        "On the other hand, if the chart reveals a trend or pattern of high average competition distances for all store types, it could indicate a need to re-evaluate the company's market strategy and to consider alternative locations or store types.\n",
        "\n",
        "In short, the insights gained from the chart can be useful in informing business decisions, but they may or may not lead to a positive business impact, as it depends on the specific business situation."
      ],
      "metadata": {
        "id": "TL7aWqo8b04R"
      }
    },
    {
      "cell_type": "markdown",
      "source": [
        "#### Chart - 11 - Correlation Heatmap"
      ],
      "metadata": {
        "id": "NC_X3p0fY2L0"
      }
    },
    {
      "cell_type": "code",
      "source": [
        "# Correlation Heatmap visualization code"
      ],
      "metadata": {
        "id": "xyC9zolEZNRQ"
      },
      "execution_count": null,
      "outputs": []
    },
    {
      "cell_type": "code",
      "source": [
        "# set figure size\n",
        "plt.figure(figsize=(12,6))\n",
        "\n",
        "# create the heatmap with annotations\n",
        "sns.heatmap(store_df.corr().abs(), annot=True, cmap=\"icefire_r\")\n",
        "\n",
        "# set the title for the heatmap\n",
        "plt.title(\"Absolute Correlation Heatmap\", fontsize=25, fontweight=\"bold\")"
      ],
      "metadata": {
        "id": "YyFrEhq3Whku"
      },
      "execution_count": null,
      "outputs": []
    },
    {
      "cell_type": "markdown",
      "source": [
        "##### 1. Why did you pick the specific chart?"
      ],
      "metadata": {
        "id": "UV0SzAkaZNRQ"
      }
    },
    {
      "cell_type": "markdown",
      "source": [
        "* Heatmaps represent data in a matrix using color-coding and are effective for visualizing correlations and distributions."
      ],
      "metadata": {
        "id": "zMjZPeBRXTw-"
      }
    },
    {
      "cell_type": "markdown",
      "source": [
        "##### 2. What is/are the insight(s) found from the chart?"
      ],
      "metadata": {
        "id": "YPEH6qLeZNRQ"
      }
    },
    {
      "cell_type": "markdown",
      "source": [
        "* Heatmaps can reveal the strength and direction of correlation, clusters of correlated variables, and outliers in the data."
      ],
      "metadata": {
        "id": "uGMoKPpFXXFK"
      }
    },
    {
      "cell_type": "markdown",
      "source": [
        "##### 3. Will the gained insights help creating a positive business impact? \n",
        "Are there any insights that lead to negative growth? Justify with specific reason."
      ],
      "metadata": {
        "id": "M7G43BXep1ck"
      }
    },
    {
      "cell_type": "markdown",
      "source": [
        "* The heatmap's insights can impact business positively/negatively by providing a visual representation of variable relationships that inform decision making and strategic planning. Positive correlations can lead to growth, while negative correlations highlight potential risks that require addressing."
      ],
      "metadata": {
        "id": "p0Bg2Lt7PnKA"
      }
    },
    {
      "cell_type": "markdown",
      "source": [
        "#### Chart - 12 - Pair Plot "
      ],
      "metadata": {
        "id": "q29F0dvdveiT"
      }
    },
    {
      "cell_type": "code",
      "source": [
        "# Pair Plot visualization code"
      ],
      "metadata": {
        "id": "o58-TEIhveiU"
      },
      "execution_count": null,
      "outputs": []
    },
    {
      "cell_type": "code",
      "source": [
        "sns.set_style(\"whitegrid\", {'axes.grid' : False})\n",
        "pp=sns.pairplot(store_df,hue='StoreType')\n",
        "pp.fig.set_size_inches(10,10);"
      ],
      "metadata": {
        "id": "WSM9h8UYWCge"
      },
      "execution_count": null,
      "outputs": []
    },
    {
      "cell_type": "markdown",
      "source": [
        "##### 1. Why did you pick the specific chart?"
      ],
      "metadata": {
        "id": "EXh0U9oCveiU"
      }
    },
    {
      "cell_type": "markdown",
      "source": [
        "I chose the pair plot because pair plots are used to visualise pairwise relationships between variables in a dataset to identify patterns, correlations, and outliers."
      ],
      "metadata": {
        "id": "UBkGqxqHXtJI"
      }
    },
    {
      "cell_type": "markdown",
      "source": [
        "##### 2. What is/are the insight(s) found from the chart?"
      ],
      "metadata": {
        "id": "22aHeOlLveiV"
      }
    },
    {
      "cell_type": "markdown",
      "source": [
        "identified patterns, correlations, or outliers between different pairs of variables in a dataset. By visualising these pairwise relationships, a pair plot helps identify potential areas for further analysis or investigation."
      ],
      "metadata": {
        "id": "IcOwj-yCXxwM"
      }
    },
    {
      "cell_type": "markdown",
      "source": [
        "* The heatmap's insights can impact business positively/negatively by providing a visual representation of variable relationships that inform decision making and strategic planning. Positive correlations can lead to growth, while negative correlations highlight potential risks that require addressing."
      ],
      "metadata": {
        "id": "kicrizbpXcOq"
      }
    },
    {
      "cell_type": "markdown",
      "source": [
        "#### Chart - 13"
      ],
      "metadata": {
        "id": "x-EpHcCOp1ci"
      }
    },
    {
      "cell_type": "code",
      "source": [
        "# Chart - 11 visualization code"
      ],
      "metadata": {
        "id": "mAQTIvtqp1cj"
      },
      "execution_count": null,
      "outputs": []
    },
    {
      "cell_type": "markdown",
      "source": [
        "##### 1. Why did you pick the specific chart?"
      ],
      "metadata": {
        "id": "X_VqEhTip1ck"
      }
    },
    {
      "cell_type": "markdown",
      "source": [
        "Answer Here."
      ],
      "metadata": {
        "id": "-vsMzt_np1ck"
      }
    },
    {
      "cell_type": "markdown",
      "source": [
        "##### 2. What is/are the insight(s) found from the chart?"
      ],
      "metadata": {
        "id": "8zGJKyg5p1ck"
      }
    },
    {
      "cell_type": "markdown",
      "source": [
        "Answer Here"
      ],
      "metadata": {
        "id": "ZYdMsrqVp1ck"
      }
    },
    {
      "cell_type": "markdown",
      "source": [
        "##### 3. Will the gained insights help creating a positive business impact? \n",
        "Are there any insights that lead to negative growth? Justify with specific reason."
      ],
      "metadata": {
        "id": "PVzmfK_Ep1ck"
      }
    },
    {
      "cell_type": "markdown",
      "source": [
        "Answer Here"
      ],
      "metadata": {
        "id": "druuKYZpp1ck"
      }
    },
    {
      "cell_type": "markdown",
      "source": [
        "#### Chart - 14"
      ],
      "metadata": {
        "id": "n3dbpmDWp1ck"
      }
    },
    {
      "cell_type": "code",
      "source": [
        "# Chart - 12 visualization code"
      ],
      "metadata": {
        "id": "bwevp1tKp1ck"
      },
      "execution_count": null,
      "outputs": []
    },
    {
      "cell_type": "markdown",
      "source": [
        "##### 1. Why did you pick the specific chart?"
      ],
      "metadata": {
        "id": "ylSl6qgtp1ck"
      }
    },
    {
      "cell_type": "markdown",
      "source": [
        "Answer Here."
      ],
      "metadata": {
        "id": "m2xqNkiQp1ck"
      }
    },
    {
      "cell_type": "markdown",
      "source": [
        "##### 2. What is/are the insight(s) found from the chart?"
      ],
      "metadata": {
        "id": "ZWILFDl5p1ck"
      }
    },
    {
      "cell_type": "markdown",
      "source": [
        "Answer Here"
      ],
      "metadata": {
        "id": "x-lUsV2mp1ck"
      }
    },
    {
      "cell_type": "markdown",
      "source": [
        "#### Chart - 15"
      ],
      "metadata": {
        "id": "Ag9LCva-p1cl"
      }
    },
    {
      "cell_type": "code",
      "source": [
        "# Chart - 13 visualization code"
      ],
      "metadata": {
        "id": "EUfxeq9-p1cl"
      },
      "execution_count": null,
      "outputs": []
    },
    {
      "cell_type": "markdown",
      "source": [
        "##### 1. Why did you pick the specific chart?"
      ],
      "metadata": {
        "id": "E6MkPsBcp1cl"
      }
    },
    {
      "cell_type": "markdown",
      "source": [
        "Answer Here."
      ],
      "metadata": {
        "id": "V22bRsFWp1cl"
      }
    },
    {
      "cell_type": "markdown",
      "source": [
        "##### 2. What is/are the insight(s) found from the chart?"
      ],
      "metadata": {
        "id": "2cELzS2fp1cl"
      }
    },
    {
      "cell_type": "markdown",
      "source": [
        "Answer Here"
      ],
      "metadata": {
        "id": "ozQPc2_Ip1cl"
      }
    },
    {
      "cell_type": "markdown",
      "source": [
        "##### 3. Will the gained insights help creating a positive business impact? \n",
        "Are there any insights that lead to negative growth? Justify with specific reason."
      ],
      "metadata": {
        "id": "3MPXvC8up1cl"
      }
    },
    {
      "cell_type": "markdown",
      "source": [
        "Answer Here"
      ],
      "metadata": {
        "id": "GL8l1tdLp1cl"
      }
    },
    {
      "cell_type": "markdown",
      "source": [
        "### **Merging Two Datasets ( rossmann_df And store_df )** ###"
      ],
      "metadata": {
        "id": "yR9mcR8hrGfu"
      }
    },
    {
      "cell_type": "code",
      "source": [
        "# Merge Rossmann and Store Dataset"
      ],
      "metadata": {
        "id": "wC9Eh4ygYTNe"
      },
      "execution_count": null,
      "outputs": []
    },
    {
      "cell_type": "code",
      "source": [
        "df = pd.merge(rossmann_df, store_df, how='left', on='Store')"
      ],
      "metadata": {
        "id": "CmlgzCQKq3zl"
      },
      "execution_count": null,
      "outputs": []
    },
    {
      "cell_type": "code",
      "source": [
        "# Dataset First Look"
      ],
      "metadata": {
        "id": "yZQt0Zg0aXwj"
      },
      "execution_count": null,
      "outputs": []
    },
    {
      "cell_type": "code",
      "source": [
        "df.head()"
      ],
      "metadata": {
        "id": "oFjxF3HHlByj"
      },
      "execution_count": null,
      "outputs": []
    },
    {
      "cell_type": "code",
      "source": [
        "# Dataset Rows & Columns count"
      ],
      "metadata": {
        "id": "uKHOcSz9akAV"
      },
      "execution_count": null,
      "outputs": []
    },
    {
      "cell_type": "code",
      "source": [
        "df.shape"
      ],
      "metadata": {
        "id": "xDXLykgNrdGb"
      },
      "execution_count": null,
      "outputs": []
    },
    {
      "cell_type": "code",
      "source": [
        "# Dataset Columns"
      ],
      "metadata": {
        "id": "pg_esOsBalzM"
      },
      "execution_count": null,
      "outputs": []
    },
    {
      "cell_type": "code",
      "source": [
        "df.columns"
      ],
      "metadata": {
        "id": "zGsdWvEg1Wlo"
      },
      "execution_count": null,
      "outputs": []
    },
    {
      "cell_type": "code",
      "source": [
        "# Dataset Describe"
      ],
      "metadata": {
        "id": "QjlMZr5satDZ"
      },
      "execution_count": null,
      "outputs": []
    },
    {
      "cell_type": "code",
      "source": [
        "df.describe()"
      ],
      "metadata": {
        "id": "s2_22ncp1inN"
      },
      "execution_count": null,
      "outputs": []
    },
    {
      "cell_type": "markdown",
      "source": [
        "**EDA On Merged Dataset**"
      ],
      "metadata": {
        "id": "FpfJijCbhMsY"
      }
    },
    {
      "cell_type": "code",
      "source": [
        "# visualization code Heatmap"
      ],
      "metadata": {
        "id": "ksjizs3MhlRz"
      },
      "execution_count": null,
      "outputs": []
    },
    {
      "cell_type": "code",
      "source": [
        "# set figure size\n",
        "plt.figure(figsize=(16,10))\n",
        "\n",
        "# create the heatmap with annotations\n",
        "sns.heatmap(df.corr().abs(), annot=True, cmap=\"PiYG\")\n",
        "\n",
        "# remove the spines on the top and right sides of the heatmap\n",
        "sns.despine(left=True, bottom=True)\n",
        "\n",
        "# set the title for the heatmap\n",
        "plt.title(\"Absolute Correlation Heatmap\", fontsize=25, fontweight=\"bold\")\n",
        "\n",
        "# show the plot\n",
        "plt.show()"
      ],
      "metadata": {
        "id": "21Kws6MlfpAO"
      },
      "execution_count": null,
      "outputs": []
    },
    {
      "cell_type": "markdown",
      "source": [
        "## ***5. Feature Engineering & Data Pre-processing***"
      ],
      "metadata": {
        "id": "yLjJCtPM0KBk"
      }
    },
    {
      "cell_type": "markdown",
      "source": [
        "### 1. Handling Missing Values"
      ],
      "metadata": {
        "id": "xiyOF9F70UgQ"
      }
    },
    {
      "cell_type": "code",
      "source": [
        "# Handling Missing Values & Missing Value Imputation"
      ],
      "metadata": {
        "id": "iRsAHk1K0fpS"
      },
      "execution_count": null,
      "outputs": []
    },
    {
      "cell_type": "code",
      "source": [
        "# Check for missing values in the dataset\n",
        "df.isnull().sum()\n",
        "\n",
        "# Replace missing values in 'Sales' column with the mean value\n",
        "df['Sales'].fillna((df['Sales'].mean()), inplace=True)\n",
        "\n",
        "# Replace missing values in 'Customers' column with the mean value\n",
        "df['Customers'].fillna((df['Customers'].mean()), inplace=True)\n",
        "\n",
        "# Check for missing values after imputation\n",
        "df.isnull().sum()\n"
      ],
      "metadata": {
        "id": "CVx4knOhlYcH"
      },
      "execution_count": null,
      "outputs": []
    },
    {
      "cell_type": "markdown",
      "source": [
        "#### What all missing value imputation techniques have you used and why did you use those techniques?"
      ],
      "metadata": {
        "id": "7wuGOrhz0itI"
      }
    },
    {
      "cell_type": "markdown",
      "source": [
        "1. Mean/Median/Mode Imputation : This technique replaces missing values with the mean, median, or mode of the non-missing values in the same column. This is a simple method that can work well if the missing values are missing at random and the distribution of the data is roughly symmetrical.\n"
      ],
      "metadata": {
        "id": "zx5fbORDbOob"
      }
    },
    {
      "cell_type": "markdown",
      "source": [
        "### 2. Handling Outliers"
      ],
      "metadata": {
        "id": "id1riN9m0vUs"
      }
    },
    {
      "cell_type": "code",
      "source": [
        "# Handling Outliers & Outlier treatments"
      ],
      "metadata": {
        "id": "M6w2CzZf04JK"
      },
      "execution_count": null,
      "outputs": []
    },
    {
      "cell_type": "code",
      "source": [
        "#checking outliers in sales\n",
        "# Use the Seaborn boxplot function to visualize the distribution of the 'Sales' column\n",
        "sns.boxplot(df['Sales'], color=\"pink\")\n",
        "\n",
        "# Add a title to the plot\n",
        "plt.title(\"Distribution of Sales\", fontsize=18, fontweight=\"bold\")\n",
        "\n",
        "# Show the plot\n",
        "plt.show()"
      ],
      "metadata": {
        "id": "qeCwLe44mctS"
      },
      "execution_count": null,
      "outputs": []
    },
    {
      "cell_type": "code",
      "source": [
        "#removing outliers\n",
        "def remove_outlier(df_in, col_name):\n",
        "    q1 = df_in[col_name].quantile(0.25)\n",
        "    q3 = df_in[col_name].quantile(0.75)\n",
        "    iqr = q3-q1 #Interquartile range\n",
        "    fence_low  = q1-1.5*iqr\n",
        "    fence_high = q3+1.5*iqr\n",
        "    df_out = df_in.loc[(df_in[col_name] > fence_low) & (df_in[col_name] < fence_high)]\n",
        "    return df_out"
      ],
      "metadata": {
        "id": "98QAHPaXb7md"
      },
      "execution_count": null,
      "outputs": []
    },
    {
      "cell_type": "code",
      "source": [
        "# defining new variable after removing outliers\n",
        "df= remove_outlier(df, 'Sales')"
      ],
      "metadata": {
        "id": "e7mHuD1YcOZ_"
      },
      "execution_count": null,
      "outputs": []
    },
    {
      "cell_type": "markdown",
      "source": [
        "##### What all outlier treatment techniques have you used and why did you use those techniques?"
      ],
      "metadata": {
        "id": "578E2V7j08f6"
      }
    },
    {
      "cell_type": "markdown",
      "source": [
        "* In terms of outlier treatment technique, one of the common method used :\n",
        "\n",
        "1. Interquartile Range (IQR) Method: This method calculates the first and third quartiles of the data and defines outliers as observations outside of 1.5 times the IQR above the third quartile or below the first quartile."
      ],
      "metadata": {
        "id": "uNveDIyIbbjA"
      }
    },
    {
      "cell_type": "markdown",
      "source": [
        "### 3. Categorical Encoding"
      ],
      "metadata": {
        "id": "89xtkJwZ18nB"
      }
    },
    {
      "cell_type": "code",
      "source": [
        "# Encode your categorical columns"
      ],
      "metadata": {
        "id": "21JmIYMG2hEo"
      },
      "execution_count": null,
      "outputs": []
    },
    {
      "cell_type": "code",
      "source": [
        "# Select the categorical columns to encode\n",
        "df['DayOfWeek'] = df['DayOfWeek'].astype(int)\n",
        "\n",
        "cat_cols = ['DayOfWeek', 'StateHoliday', 'SchoolHoliday','StoreType', 'Assortment']\n",
        "\n",
        "# Apply one-hot encoding to the categorical columns\n",
        "df_encoded = pd.get_dummies(df, columns=cat_cols,drop_first=True)\n",
        "\n",
        "# Show the encoded dataset\n",
        "df_encoded.head()\n"
      ],
      "metadata": {
        "id": "7p5XLNH9pEF7"
      },
      "execution_count": null,
      "outputs": []
    },
    {
      "cell_type": "code",
      "source": [
        "# code for changing Assortment dtype from float to int.\n",
        "df['CompetitionDistance']= df['CompetitionDistance'].astype(int)"
      ],
      "metadata": {
        "id": "BrgEQlVtj68m"
      },
      "execution_count": null,
      "outputs": []
    },
    {
      "cell_type": "code",
      "source": [
        "# code for changing Assortment dtype from object to int.\n",
        "df['Assortment'] = np.where((df['Assortment'] == 'a'),0,df['Assortment'])\n",
        "df['Assortment'] = np.where((df['Assortment'] == 'b'),1,df['Assortment'])\n",
        "df['Assortment'] = np.where((df['Assortment'] == 'c'),2,df['Assortment'])"
      ],
      "metadata": {
        "id": "avV5r7V0UzV3"
      },
      "execution_count": null,
      "outputs": []
    },
    {
      "cell_type": "code",
      "source": [
        "#converting catagorical value into interger values based on store type class.\n",
        "df['StoreType'] = np.where((df['StoreType'] == 'b'),1,df['StoreType'])\n",
        "df['StoreType'] = np.where((df['StoreType'] == 'c'),2,df['StoreType'])\n",
        "df['StoreType'] = np.where((df['StoreType'] == 'a'),0,df['StoreType'])\n",
        "df['StoreType'] = np.where((df['StoreType'] == 'd'),3,df['StoreType'])"
      ],
      "metadata": {
        "id": "KUyIvwqxYcG3"
      },
      "execution_count": null,
      "outputs": []
    },
    {
      "cell_type": "code",
      "source": [
        "#converting catagorical value into object values based on store type class.\n",
        "df['StateHoliday'] = np.where((df['StateHoliday'] == 'b'),1,df['StateHoliday'])\n",
        "df['StateHoliday'] = np.where((df['StateHoliday'] == 'c'),2,df['StateHoliday'])\n",
        "df['StateHoliday'] = np.where((df['StateHoliday'] == 'a'),0,df['StateHoliday'])\n",
        "df['StateHoliday'] = np.where((df['StateHoliday'] == 'd'),3,df['StateHoliday'])"
      ],
      "metadata": {
        "id": "t3YSOKslfgWW"
      },
      "execution_count": null,
      "outputs": []
    },
    {
      "cell_type": "code",
      "source": [
        "#converting object dtype to integer.\n",
        "df['Year']= df['Year'].astype(int)\n",
        "df['Month']= df['Month'].astype(int)\n",
        "df['StoreType']= df['StoreType'].astype(int)\n",
        "df['Assortment']= df['Assortment'].astype(int)\n",
        "df['StateHoliday'] = df['StateHoliday'].astype(int)"
      ],
      "metadata": {
        "id": "S3nkWKm-Yvk4"
      },
      "execution_count": null,
      "outputs": []
    },
    {
      "cell_type": "markdown",
      "source": [
        "#### What all categorical encoding techniques have you used & why did you use those techniques?"
      ],
      "metadata": {
        "id": "67NQN5KX2AMe"
      }
    },
    {
      "cell_type": "markdown",
      "source": [
        "The following is one of the most commonly used categorical encoding technique:\n",
        "\n",
        "1. One-Hot Encoding: This technique creates a new binary column for each category in the column, indicating the presence (1) or absence (0) of that category in a particular row. One-hot encoding is useful when there are a large number of categories or when the categories have no inherent order or ranking.\n",
        "\n"
      ],
      "metadata": {
        "id": "SkSNUZ7Jbs97"
      }
    },
    {
      "cell_type": "markdown",
      "source": [
        "### 4. Feature Manipulation & Selection"
      ],
      "metadata": {
        "id": "-oLEiFgy-5Pf"
      }
    },
    {
      "cell_type": "markdown",
      "source": [
        "#### 1. Feature Manipulation"
      ],
      "metadata": {
        "id": "C74aWNz2AliB"
      }
    },
    {
      "cell_type": "code",
      "source": [
        "# Manipulate Features to minimize feature correlation and create new features"
      ],
      "metadata": {
        "id": "h1qC4yhBApWC"
      },
      "execution_count": null,
      "outputs": []
    },
    {
      "cell_type": "code",
      "source": [
        "# Create a new feature that calculates the total sales per customer\n",
        "df['SalesPerCustomer'] = df['Sales'] / df['Customers']\n",
        "\n",
        "# Create a new feature that calculates the average sales per store per day\n",
        "df['AvgSalesPerStorePerDay'] = df.groupby(['Store', 'DayOfWeek'])['Sales'].transform('mean')\n"
      ],
      "metadata": {
        "id": "t5bqdAQ5pnvA"
      },
      "execution_count": null,
      "outputs": []
    },
    {
      "cell_type": "code",
      "source": [
        "# Replace missing values in SalesPerCustomer column with the mean value\n",
        "df['SalesPerCustomer'].fillna((df['SalesPerCustomer'].mean()), inplace=True)"
      ],
      "metadata": {
        "id": "KZQi0SdMm3rr"
      },
      "execution_count": null,
      "outputs": []
    },
    {
      "cell_type": "markdown",
      "source": [
        "#### 2. Feature Selection"
      ],
      "metadata": {
        "id": "2DejudWSA-a0"
      }
    },
    {
      "cell_type": "code",
      "source": [
        "# Select your features wisely to avoid overfitting"
      ],
      "metadata": {
        "id": "YLhe8UmaBCEE"
      },
      "execution_count": null,
      "outputs": []
    },
    {
      "cell_type": "code",
      "source": [
        "# defining dependent variable\n",
        "dependent_var = 'Sales'\n",
        "\n",
        "# defining independent variable\n",
        "independent_var = df.columns.drop(['Store','Sales','Open',])\n"
      ],
      "metadata": {
        "id": "_zGDDJBUvXLR"
      },
      "execution_count": null,
      "outputs": []
    },
    {
      "cell_type": "code",
      "source": [
        "# Create the data of independent variables\n",
        "X = df[independent_var].values\n",
        "\n",
        "# Create the dependent variable data\n",
        "y = df[dependent_var].values"
      ],
      "metadata": {
        "id": "DTpXl7_rXT2m"
      },
      "execution_count": null,
      "outputs": []
    },
    {
      "cell_type": "markdown",
      "source": [
        "##### What all feature selection methods have you used  and why?"
      ],
      "metadata": {
        "id": "pEMng2IbBLp7"
      }
    },
    {
      "cell_type": "markdown",
      "source": [
        "We have a dataset where \"Sales\" is the target variable, and we want to perform target encoding on the categorical independent variables excluding the \"Store\" and \"Open\" columns. To achieve this"
      ],
      "metadata": {
        "id": "rb2Lh6Z8BgGs"
      }
    },
    {
      "cell_type": "markdown",
      "source": [
        "##### Which all features you found important and why?"
      ],
      "metadata": {
        "id": "rAdphbQ9Bhjc"
      }
    },
    {
      "cell_type": "markdown",
      "source": [
        "After performing feature selection on a given dataset, we have identified that the following features are important and play a vital role in predicting the sales: \"DayOfWeek,\" \"Customers,\" \"Promo,\" \"SchoolHoliday,\" \"StoreType,\" \"Assortment,\" \"CompetitionDistance,\" \"Promo2,\" \"year,\" \"month,\" \"date,\" \"StateHoliday_a,\" \"StateHoliday_b,\" and \"StateHoliday_c.\" By considering these features, we can build a more accurate model that takes into account the most relevant variables that impact sales. This information can be useful for businesses looking to optimise their sales strategies and improve their overall performance."
      ],
      "metadata": {
        "id": "fGgaEstsBnaf"
      }
    },
    {
      "cell_type": "markdown",
      "source": [
        "### 5. Data Transformation"
      ],
      "metadata": {
        "id": "TNVZ9zx19K6k"
      }
    },
    {
      "cell_type": "markdown",
      "source": [
        "#### Do you think that your data needs to be transformed? If yes, which transformation have you used. Explain Why?"
      ],
      "metadata": {
        "id": "nqoHp30x9hH9"
      }
    },
    {
      "cell_type": "code",
      "source": [
        "numeric_features = list(df.describe().columns)"
      ],
      "metadata": {
        "id": "IO9ZLc0Pv-l9"
      },
      "execution_count": null,
      "outputs": []
    },
    {
      "cell_type": "code",
      "source": [
        "# Transform Your data"
      ],
      "metadata": {
        "id": "I6quWQ1T9rtH"
      },
      "execution_count": null,
      "outputs": []
    },
    {
      "cell_type": "code",
      "source": [
        "#Transform Your data\n",
        "#printing displots to analyze the distribution of all numerical features\n",
        "\n",
        "\n",
        "for col in numeric_features[1:-3]:\n",
        "    fig = plt.figure(figsize=(8, 6))\n",
        "    ax = fig.gca()\n",
        "    feature = np.log1p(df[col])\n",
        "    sns.distplot(feature, color='purple')    \n",
        "    ax.set_title(col)    \n",
        "    \n",
        "plt.show()"
      ],
      "metadata": {
        "id": "uCv6Is97xlya"
      },
      "execution_count": null,
      "outputs": []
    },
    {
      "cell_type": "markdown",
      "source": [
        "### 6. Data Splitting"
      ],
      "metadata": {
        "id": "BhH2vgX9EjGr"
      }
    },
    {
      "cell_type": "code",
      "source": [
        "# Split your data to train and test. Choose Splitting ratio wisely."
      ],
      "metadata": {
        "id": "0CTyd2UwEyNM"
      },
      "execution_count": null,
      "outputs": []
    },
    {
      "cell_type": "code",
      "source": [
        "X_train, X_test, y_train, y_test = train_test_split(X, y, test_size = 0.2, random_state = 1)\n",
        "print(X_train.shape)\n",
        "print(X_test.shape)"
      ],
      "metadata": {
        "id": "c1_xBd0oUhH3"
      },
      "execution_count": null,
      "outputs": []
    },
    {
      "cell_type": "code",
      "source": [
        "df.dtypes"
      ],
      "metadata": {
        "id": "mvuG6ZC_dgtT"
      },
      "execution_count": null,
      "outputs": []
    },
    {
      "cell_type": "code",
      "source": [
        "scaler = StandardScaler()\n",
        "X_train = scaler.fit_transform(X_train)\n",
        "X_test = scaler.transform(X_test)"
      ],
      "metadata": {
        "id": "AZJIK4BIXhIK"
      },
      "execution_count": null,
      "outputs": []
    },
    {
      "cell_type": "markdown",
      "source": [
        "##### What data splitting ratio have you used and why? "
      ],
      "metadata": {
        "id": "qjKvONjwE8ra"
      }
    },
    {
      "cell_type": "markdown",
      "source": [
        "* Spliting of data means some proportions of the data will go into training the model and some portion will be used to evaluate how our model is performing on any unseen data. The proportions may vary from 60:40, 70:30, 75:25 depending on the person but mostly used is 80:20 for training and testing respectively. In this step we will split our data into training and testing set using scikit learn library.\n",
        "\n",
        "* So we have spilting the data into 80:20 proportion"
      ],
      "metadata": {
        "id": "Y2lJ8cobFDb_"
      }
    },
    {
      "cell_type": "markdown",
      "source": [
        "## ***6. ML Model Implementation***"
      ],
      "metadata": {
        "id": "VfCC591jGiD4"
      }
    },
    {
      "cell_type": "markdown",
      "source": [
        "### ML Model - 1. Linear Regression"
      ],
      "metadata": {
        "id": "OB4l2ZhMeS1U"
      }
    },
    {
      "cell_type": "code",
      "source": [
        "#Evaluate Metrics\n",
        "\n",
        "def print_evaluate(true, predicted):  \n",
        "    mae = metrics.mean_absolute_error(true, predicted)\n",
        "    mse = metrics.mean_squared_error(true, predicted)\n",
        "    rmse = np.sqrt(mse)\n",
        "    r2_square = metrics.r2_score(true, predicted)\n",
        "    print('MAE:', mae)\n",
        "    print('MSE:', mse)\n",
        "    print('RMSE:', rmse)\n",
        "    print('R2 Square:', r2_square)\n",
        "    print('__________________________________')"
      ],
      "metadata": {
        "id": "XY6cff6rTF0J"
      },
      "execution_count": null,
      "outputs": []
    },
    {
      "cell_type": "code",
      "source": [
        "# fit the model \n",
        "lin_reg = LinearRegression(normalize=True)\n",
        "lin_reg.fit(X_train,y_train)"
      ],
      "metadata": {
        "id": "VwODbZC2RFos"
      },
      "execution_count": null,
      "outputs": []
    },
    {
      "cell_type": "code",
      "source": [
        "# predict the model\n",
        "pred = lin_reg.predict(X_test)"
      ],
      "metadata": {
        "id": "y3xr-nm8nZZ6"
      },
      "execution_count": null,
      "outputs": []
    },
    {
      "cell_type": "code",
      "source": [
        "#Evaluation Metrics\n",
        "test_pred = lin_reg.predict(X_test)\n",
        "train_pred = lin_reg.predict(X_train)\n",
        "\n",
        "print('Train set evaluation:\\n___________________________')\n",
        "print_evaluate(y_train, train_pred)\n",
        "\n",
        "print('Test set evaluation:\\n_____________________________')\n",
        "print_evaluate(y_test, test_pred)"
      ],
      "metadata": {
        "id": "8FusVMFincWY"
      },
      "execution_count": null,
      "outputs": []
    },
    {
      "cell_type": "markdown",
      "source": [
        "### ML Model - 2. Lasso Regression"
      ],
      "metadata": {
        "id": "dJ2tPlVmpsJ0"
      }
    },
    {
      "cell_type": "code",
      "source": [
        "# fit the model\n",
        "\n",
        "lasso = Lasso(selection='random',random_state=0)\n",
        "parameters = {'alpha': [1e-8,1e-5,1e-4,1e-3,1e-2,1e-1,1,5,10,]}\n",
        "lasso_regressor = GridSearchCV(lasso, parameters, scoring='neg_mean_squared_error', cv=5)\n",
        "lasso_regressor.fit(X_train, y_train)\n",
        "\n",
        "test_pred = lasso_regressor.predict(X_test)\n",
        "train_pred = lasso_regressor.predict(X_train)\n",
        "\n",
        "# test the model performance\n",
        "\n",
        "\n",
        "print('Train set evaluation:\\n_____________________________________')\n",
        "zw=print_evaluate(y_train, train_pred)\n",
        "print('====================================')\n",
        "print('Test set evaluation:\\n_____________________________________')\n",
        "print_evaluate(y_test, test_pred)\n",
        "\n",
        "print(\"The best fit alpha value is found out to be :\" ,lasso_regressor.best_params_)"
      ],
      "metadata": {
        "id": "00eFS6kV1WaD"
      },
      "execution_count": null,
      "outputs": []
    },
    {
      "cell_type": "markdown",
      "source": [
        "### ML Model - 3. Ridge Regression"
      ],
      "metadata": {
        "id": "Fze-IPXLpx6K"
      }
    },
    {
      "cell_type": "code",
      "source": [
        "# implement model\n",
        "ridge = Ridge(alpha=0.001, solver='cholesky', tol=0.0001, random_state=42)\n",
        "ridge.fit(X_train, y_train)\n",
        "pred = ridge.predict(X_test)\n",
        "\n",
        "#fit the model\n",
        "test_pred = ridge.predict(X_test)\n",
        "train_pred = ridge.predict(X_train)\n",
        "\n",
        "# test on train data set\n",
        "print('Train set evaluation:\\n_____________________________________')\n",
        "print_evaluate(y_train, train_pred)\n",
        "\n",
        "# test on test dataset\n",
        "print('Test set evaluation:\\n_____________________________________')\n",
        "print_evaluate(y_test, test_pred)\n"
      ],
      "metadata": {
        "id": "uKUZJEFFzLuZ"
      },
      "execution_count": null,
      "outputs": []
    },
    {
      "cell_type": "markdown",
      "source": [
        "### ML Model - 4. Decision Tree"
      ],
      "metadata": {
        "id": "HvTlOd535Qmk"
      }
    },
    {
      "cell_type": "code",
      "source": [
        "#import packages\n",
        "from sklearn.tree import DecisionTreeRegressor\n",
        "\n",
        "#implement model\n",
        "DT_model = DecisionTreeRegressor()\n",
        "DT_model.fit(X_train,y_train)\n",
        "\n",
        "#fit the model\n",
        "test_pred = DT_model.predict(X_test)\n",
        "train_pred = DT_model.predict(X_train)\n",
        "\n",
        "# test model on train data set\n",
        "print('Train set evaluation:\\n_____________________________________')\n",
        "print_evaluate(y_train, train_pred)\n",
        "\n",
        "\n",
        "# test model on test data set\n",
        "\n",
        "print('Test set evaluation:\\n_____________________________________')\n",
        "print_evaluate(y_test, test_pred)\n"
      ],
      "metadata": {
        "id": "FFrSXAtrpx6M"
      },
      "execution_count": null,
      "outputs": []
    },
    {
      "cell_type": "markdown",
      "source": [
        "### ML Model - 5. Random Forest"
      ],
      "metadata": {
        "id": "uJPrtq4u9STc"
      }
    },
    {
      "cell_type": "code",
      "source": [
        "# model implementation\n",
        "from sklearn.ensemble import RandomForestRegressor\n",
        "param_grid = {  'bootstrap': [True], 'max_depth': [5, 10, None], 'max_features': ['auto', 'log2'], 'n_estimators': [25]}\n",
        "rfr = RandomForestRegressor(random_state = 1)\n",
        "\n",
        "random_forest_model= GridSearchCV(estimator = rfr, param_grid = param_grid, cv = 3, n_jobs = 1, verbose = 0, return_train_score=True)"
      ],
      "metadata": {
        "id": "WhjUqxJe9cgt"
      },
      "execution_count": null,
      "outputs": []
    },
    {
      "cell_type": "code",
      "source": [
        "# # Fit the object to train dataset\n",
        "random_forest_model.fit(X_train, y_train)\n"
      ],
      "metadata": {
        "id": "0pY2J4oB9jOZ"
      },
      "execution_count": null,
      "outputs": []
    },
    {
      "cell_type": "code",
      "source": [
        "train_pred = random_forest_model.predict(X_train)\n",
        "test_pred = random_forest_model.predict(X_test)"
      ],
      "metadata": {
        "id": "A5LhfcUF9mYf"
      },
      "execution_count": null,
      "outputs": []
    },
    {
      "cell_type": "code",
      "source": [
        "# test model on train data set\n",
        "\n",
        "print('Train set evaluation:\\n_____________________________________')\n",
        "print_evaluate(y_train, train_pred)"
      ],
      "metadata": {
        "id": "1L8hudSl9puG"
      },
      "execution_count": null,
      "outputs": []
    },
    {
      "cell_type": "code",
      "source": [
        "# test model on test data set\n",
        "\n",
        "print('Test set evaluation:\\n_____________________________________')\n",
        "print_evaluate(y_test, test_pred)"
      ],
      "metadata": {
        "id": "uO8ViDWK9smu"
      },
      "execution_count": null,
      "outputs": []
    },
    {
      "cell_type": "code",
      "source": [
        "LR=round(lin_reg.score(X_train,y_train)*100,2)\n",
        "ls2=round(metrics.r2_score(y_train,lasso_regressor.predict(X_train))*100,2)\n",
        "Rg=round(ridge.score(X_train,y_train)*100,2)\n",
        "Dt=round(DT_model.score(X_train,y_train)*100,2)\n",
        "Rf=round(random_forest_model.score(X_train,y_train)*100,2)\n"
      ],
      "metadata": {
        "id": "uJDYzgZ-4kUU"
      },
      "execution_count": null,
      "outputs": []
    },
    {
      "cell_type": "code",
      "source": [
        "models =pd.DataFrame({\n",
        "    'Model': ['Linear_Regression', 'Lasso_Regression','Ridge_Regression',\n",
        "              'Desicion-Tree_Regression','Random_Forest'],\n",
        "    'Score': [LR,ls2,Rg,Dt,Rf]})\n",
        "models.sort_values(by='Score')\n",
        "models\n",
        "models.sort_values(by='Score',ascending=False)\n"
      ],
      "metadata": {
        "id": "Wgv12gkL38gN"
      },
      "execution_count": null,
      "outputs": []
    },
    {
      "cell_type": "markdown",
      "source": [
        "# **Conclusion**"
      ],
      "metadata": {
        "id": "gCX9965dhzqZ"
      }
    },
    {
      "cell_type": "markdown",
      "source": [
        "***Conclusions From EDA :***"
      ],
      "metadata": {
        "id": "ORMmTWmp7jKM"
      }
    },
    {
      "cell_type": "markdown",
      "source": [
        "* Based on the analysis, we gained several insightful observations. Firstly, the stores tended to have a high assortment level, either by offering extra mix types of products or by extending the product range. \n",
        "\n",
        "* Secondly, promotions had a significant impact on sales, and customers tended to purchase more on sale days.\n",
        "\n",
        "* Thirdly, there was a trend of individuals shopping for the end of the current month and the beginning of the following one, primarily for daily necessities. \n",
        "\n",
        "* Additionally, sales were higher on Mondays as compared to Sundays, and school holidays seemed to make a difference in sales. \n",
        "\n",
        "* Moreover, the competition level affected sales, with higher competition leading to higher sales. Finally, the months of November and December saw the highest sales, indicating that the majority of customers are likely Christians.\n",
        "\n",
        "* These insights can assist retailers in developing effective marketing strategies and improving their product offerings to cater to customer needs."
      ],
      "metadata": {
        "id": "Fjb1IsQkh3yE"
      }
    },
    {
      "cell_type": "markdown",
      "source": [
        "***Conclusion From Machine Learning :***"
      ],
      "metadata": {
        "id": "eQvRiTLo8e_t"
      }
    },
    {
      "cell_type": "markdown",
      "source": [
        "* Firstly, we performed various regression techniques on the dataset to predict the sales. The models we used included linear regression, Lasso regression, Ridge regression, Decision Tree Regression, XGboost Regression, and Random Forest Regression.\n",
        "\n",
        "* Secondly, we evaluated the performance of each model using the R2 metric, which measures how well the model can explain the variance in the data. We observed that the XGboost Regression model had the better performance with an R2 value of 0.988409.\n",
        "\n",
        "* Thirdly, we applied hyperparameter tuning on all the models to improve their performance. Hyperparameter tuning is a technique used to optimize the parameters of a model to obtain the best possible results.\n",
        "\n",
        "* Finally, after tuning the hyperparameters of all the models, we concluded that the Random Forest Regression model had the highest performance, with an R2 value of 0.994091. Random Forest Regression is an algorithm that can handle large datasets efficiently, and it provides a higher level of accuracy in predicting outcomes over any other regression algorithm.\n",
        "\n",
        "* These insights can be helpful for businesses to predict their sales accurately, develop effective marketing strategies, and make informed decisions based on the performance of their products."
      ],
      "metadata": {
        "id": "Vjw9z0o68uTh"
      }
    },
    {
      "cell_type": "markdown",
      "source": [
        "### ***Hurrah! You have successfully completed your Machine Learning Capstone Project !!!***"
      ],
      "metadata": {
        "id": "gIfDvo9L0UH2"
      }
    }
  ]
}